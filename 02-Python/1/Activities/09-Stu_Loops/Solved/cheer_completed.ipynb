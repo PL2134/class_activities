{
 "cells": [
  {
   "cell_type": "code",
   "execution_count": 2,
   "id": "0f7619fd-ea4a-4647-af34-b661cfc2a63e",
   "metadata": {},
   "outputs": [],
   "source": [
    "# Create a variable named cheer and give it a word to cheer (i.e. Python or FinTech)\n",
    "cheer = \"Fintech\""
   ]
  },
  {
   "cell_type": "code",
   "execution_count": 3,
   "id": "c0de45b7-6ad5-465b-a682-01c960aac080",
   "metadata": {},
   "outputs": [],
   "source": [
    "# Below strings can be used to add fun\n",
    "cheer_symbol = \"*\\O/*\"\n",
    "cheer_symbol_2 = \"ヘ( ^o^)ノ＼(^_^ )\""
   ]
  },
  {
   "cell_type": "code",
   "execution_count": 4,
   "id": "7c78a197-7c70-46d5-aa9f-3f25a4b90200",
   "metadata": {},
   "outputs": [
    {
     "name": "stdout",
     "output_type": "stream",
     "text": [
      "Give me a F!\n",
      "F!\n",
      "Give me a i!\n",
      "i!\n",
      "Give me a n!\n",
      "n!\n",
      "Give me a t!\n",
      "t!\n",
      "Give me a e!\n",
      "e!\n",
      "Give me a c!\n",
      "c!\n",
      "Give me a h!\n",
      "h!\n"
     ]
    }
   ],
   "source": [
    "# Loop through string and print each letter with a cheer\n",
    "for x in cheer:\n",
    "    print(\"Give me a \" + x + \"!\")\n",
    "    print(x + \"!\")"
   ]
  },
  {
   "cell_type": "code",
   "execution_count": 6,
   "id": "55753211-9046-4a23-916a-835519718799",
   "metadata": {},
   "outputs": [
    {
     "name": "stdout",
     "output_type": "stream",
     "text": [
      "What does that spell?!\n",
      "Fintech!\n",
      "Woohoo! Go Fintech!\n",
      "*\\O/**\\O/**\\O/*\n",
      "ヘ( ^o^)ノ＼(^_^ )\n"
     ]
    }
   ],
   "source": [
    "# Print excitement to screen\n",
    "print(\"What does that spell?!\")\n",
    "print(cheer + \"!\\nWoohoo! Go \" + cheer + \"!\")\n",
    "print(cheer_symbol * 3)\n",
    "print(cheer_symbol_2)"
   ]
  },
  {
   "cell_type": "code",
   "execution_count": null,
   "id": "d25ff0b0-7f9b-4e92-9e97-20055f4a1463",
   "metadata": {},
   "outputs": [],
   "source": []
  },
  {
   "cell_type": "code",
   "execution_count": null,
   "id": "f0793024-6469-48d2-b925-a75466049c81",
   "metadata": {},
   "outputs": [],
   "source": []
  },
  {
   "cell_type": "code",
   "execution_count": null,
   "id": "f132ab2c-0779-4d3d-b272-e561aeb84190",
   "metadata": {},
   "outputs": [],
   "source": []
  }
 ],
 "metadata": {
  "kernelspec": {
   "display_name": "Python 3 (ipykernel)",
   "language": "python",
   "name": "python3"
  },
  "language_info": {
   "codemirror_mode": {
    "name": "ipython",
    "version": 3
   },
   "file_extension": ".py",
   "mimetype": "text/x-python",
   "name": "python",
   "nbconvert_exporter": "python",
   "pygments_lexer": "ipython3",
   "version": "3.9.12"
  }
 },
 "nbformat": 4,
 "nbformat_minor": 5
}
