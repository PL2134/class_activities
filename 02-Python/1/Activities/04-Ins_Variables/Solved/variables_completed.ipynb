{
 "cells": [
  {
   "cell_type": "code",
   "execution_count": 1,
   "id": "00c61fad-4582-452b-8d33-b75f5d525f90",
   "metadata": {},
   "outputs": [],
   "source": [
    "# Creates a variable with a string \"Frankfurter\"\n",
    "title = \"Frankfurter\"\n",
    "years = 23\n",
    "hourly_wage = 65.40\n",
    "expert_status = True"
   ]
  },
  {
   "cell_type": "code",
   "execution_count": 4,
   "id": "c0c2a602-6fdd-45c0-9015-b54ccf639f94",
   "metadata": {},
   "outputs": [
    {
     "name": "stdout",
     "output_type": "stream",
     "text": [
      "Frankfurter\n",
      "23\n",
      "65.4\n",
      "True\n"
     ]
    }
   ],
   "source": [
    "# Print the variables\n",
    "print(title)\n",
    "print(years)\n",
    "print(hourly_wage)\n",
    "print(expert_status)"
   ]
  },
  {
   "cell_type": "code",
   "execution_count": 5,
   "id": "ef1bcfd8-574e-4bc7-b788-d79d176173be",
   "metadata": {},
   "outputs": [
    {
     "name": "stdout",
     "output_type": "stream",
     "text": [
      "The data type of variable title is <class 'str'>\n",
      "The data type of variable title is <class 'int'>\n",
      "The data type of variable title is <class 'float'>\n",
      "The data type of variable title is <class 'bool'>\n"
     ]
    }
   ],
   "source": [
    "# Prints the data type of each declared variable\n",
    "print(\"The data type of variable title is\", type(title))\n",
    "print(\"The data type of variable title is\", type(years))\n",
    "print(\"The data type of variable title is\", type(hourly_wage))\n",
    "print(\"The data type of variable title is\", type(expert_status))"
   ]
  },
  {
   "cell_type": "code",
   "execution_count": 7,
   "id": "30a72e66-8771-4100-befc-fb8447ba50c2",
   "metadata": {},
   "outputs": [
    {
     "name": "stdout",
     "output_type": "stream",
     "text": [
      "35.69444444444444\n"
     ]
    }
   ],
   "source": [
    "# Using variable names in calculations\n",
    "total_miles = 257\n",
    "gallons_gas = 7.2\n",
    "miles_per_gallon = total_miles / gallons_gas\n",
    "print(miles_per_gallon)"
   ]
  },
  {
   "cell_type": "code",
   "execution_count": 8,
   "id": "2c90aa9b-0225-4ba3-983a-4488de8d957a",
   "metadata": {},
   "outputs": [
    {
     "name": "stdout",
     "output_type": "stream",
     "text": [
      "29.825808000000002\n"
     ]
    }
   ],
   "source": [
    "# Updating variables using assignment\n",
    "miles = 48\n",
    "kilometers = 0.621371 * miles\n",
    "print(kilometers)"
   ]
  },
  {
   "cell_type": "code",
   "execution_count": 9,
   "id": "eb8f74b3-01a5-4b46-8b62-e6efd6047cfd",
   "metadata": {},
   "outputs": [
    {
     "name": "stdout",
     "output_type": "stream",
     "text": [
      "The total kilometers driven was: 29.825808000000002\n"
     ]
    }
   ],
   "source": [
    "# Substituting/formatting variable\n",
    "message = f\"The total kilometers driven was: {kilometers}\"\n",
    "print(message)"
   ]
  },
  {
   "cell_type": "code",
   "execution_count": 11,
   "id": "9f23931f-6d23-4ebf-b9e7-502dc1370939",
   "metadata": {},
   "outputs": [],
   "source": [
    "# Variable naming conventions\n",
    "# Bad Example\n",
    "mpg = 24"
   ]
  },
  {
   "cell_type": "code",
   "execution_count": 10,
   "id": "9daacf6d-dc32-4927-9c66-02251701873b",
   "metadata": {},
   "outputs": [],
   "source": [
    "# Better Example\n",
    "miles_per_gallon = 24"
   ]
  },
  {
   "cell_type": "code",
   "execution_count": null,
   "id": "9f922d17-1667-4f60-b384-654bc73ca57b",
   "metadata": {},
   "outputs": [],
   "source": []
  }
 ],
 "metadata": {
  "kernelspec": {
   "display_name": "Python 3 (ipykernel)",
   "language": "python",
   "name": "python3"
  },
  "language_info": {
   "codemirror_mode": {
    "name": "ipython",
    "version": 3
   },
   "file_extension": ".py",
   "mimetype": "text/x-python",
   "name": "python",
   "nbconvert_exporter": "python",
   "pygments_lexer": "ipython3",
   "version": "3.9.12"
  }
 },
 "nbformat": 4,
 "nbformat_minor": 5
}
