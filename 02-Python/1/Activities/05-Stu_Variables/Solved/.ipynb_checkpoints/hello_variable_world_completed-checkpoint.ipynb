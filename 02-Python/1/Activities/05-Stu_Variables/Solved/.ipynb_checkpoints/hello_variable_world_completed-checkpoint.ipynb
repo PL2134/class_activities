{
 "cells": [
  {
   "cell_type": "code",
   "execution_count": 2,
   "id": "90ba1230-5afc-47a0-b22e-28e4ae485231",
   "metadata": {},
   "outputs": [],
   "source": [
    "# Hello Variable World Activity\n",
    "\n",
    "# Formulas Needed:\n",
    "# Increase = Current Price - Original Price\n",
    "# Percent Increase = Increase / Original x 100"
   ]
  },
  {
   "cell_type": "code",
   "execution_count": 3,
   "id": "b147ab49-f672-4fea-9d7a-4b810ee5d9d1",
   "metadata": {},
   "outputs": [],
   "source": [
    "# Create float variable for original_price\n",
    "original_price = 198.87"
   ]
  },
  {
   "cell_type": "code",
   "execution_count": 4,
   "id": "9d52c8de-5a72-461f-930c-8d300f769d1f",
   "metadata": {},
   "outputs": [],
   "source": [
    "# Create float variable for current_price\n",
    "current_price = 254.32"
   ]
  },
  {
   "cell_type": "code",
   "execution_count": 5,
   "id": "4484dd7a-230c-46ce-bc0a-dbc6338e57a4",
   "metadata": {},
   "outputs": [
    {
     "name": "stdout",
     "output_type": "stream",
     "text": [
      "55.44999999999999\n"
     ]
    }
   ],
   "source": [
    "# Calculate difference between current_price and original_price\n",
    "difference = current_price - original_price\n",
    "print(difference)"
   ]
  },
  {
   "cell_type": "code",
   "execution_count": 15,
   "id": "d4b4658f-cf2a-4434-98b3-598e5f3882dc",
   "metadata": {},
   "outputs": [
    {
     "name": "stdout",
     "output_type": "stream",
     "text": [
      "27.882536330265996\n"
     ]
    }
   ],
   "source": [
    "# Calculate percent_increase\n",
    "percent_increase = (difference / original_price) * 100\n",
    "print(percent_increase)"
   ]
  },
  {
   "cell_type": "code",
   "execution_count": 8,
   "id": "cd62a22d-b8f8-43a5-beef-bb84416a2a61",
   "metadata": {},
   "outputs": [
    {
     "name": "stdout",
     "output_type": "stream",
     "text": [
      "Apple's original stock price was $198.87\n"
     ]
    }
   ],
   "source": [
    "# Print original_price\n",
    "print(f\"Apple's original stock price was ${original_price}\")"
   ]
  },
  {
   "cell_type": "code",
   "execution_count": 10,
   "id": "61303df9-862b-43bf-8eb0-ed32a07b061e",
   "metadata": {},
   "outputs": [
    {
     "name": "stdout",
     "output_type": "stream",
     "text": [
      "Apple's current stock price is $254.32\n"
     ]
    }
   ],
   "source": [
    "# Print current_price\n",
    "print(f\"Apple's current stock price is ${current_price}\")"
   ]
  },
  {
   "cell_type": "code",
   "execution_count": 12,
   "id": "05ef1709-9656-4dd0-8cfd-05d998c2a765",
   "metadata": {},
   "outputs": [
    {
     "name": "stdout",
     "output_type": "stream",
     "text": [
      "Apple's stock price increased by 0.27882536330265995\n"
     ]
    }
   ],
   "source": [
    "# Print percent_increase\n",
    "print(f\"Apple's stock price increased by {percent_increase}\")"
   ]
  },
  {
   "cell_type": "code",
   "execution_count": 16,
   "id": "bff2d535-0a6f-462d-837a-9a5e6255d439",
   "metadata": {},
   "outputs": [
    {
     "name": "stdout",
     "output_type": "stream",
     "text": [
      "Apple's stock price increased by 27.88%\n"
     ]
    }
   ],
   "source": [
    "# CHALLENGE:\n",
    "# Use a format specifier with the f-string to print the percent increase with two decimal places:\n",
    "print(f\"Apple's stock price increased by {percent_increase:.2f}%\")"
   ]
  },
  {
   "cell_type": "code",
   "execution_count": null,
   "id": "e9e816c6-5676-4cb5-8f05-57d1601f8170",
   "metadata": {},
   "outputs": [],
   "source": []
  },
  {
   "cell_type": "code",
   "execution_count": null,
   "id": "117cb677-85c5-457b-b497-3611219dd14c",
   "metadata": {},
   "outputs": [],
   "source": []
  }
 ],
 "metadata": {
  "kernelspec": {
   "display_name": "Python 3 (ipykernel)",
   "language": "python",
   "name": "python3"
  },
  "language_info": {
   "codemirror_mode": {
    "name": "ipython",
    "version": 3
   },
   "file_extension": ".py",
   "mimetype": "text/x-python",
   "name": "python",
   "nbconvert_exporter": "python",
   "pygments_lexer": "ipython3",
   "version": "3.9.12"
  }
 },
 "nbformat": 4,
 "nbformat_minor": 5
}
