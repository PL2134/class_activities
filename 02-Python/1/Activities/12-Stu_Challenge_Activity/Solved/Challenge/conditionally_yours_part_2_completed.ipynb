{
 "cells": [
  {
   "cell_type": "code",
   "execution_count": 1,
   "id": "62aa05c3-2d41-42ca-91bd-3e2c57cc0522",
   "metadata": {
    "collapsed": true,
    "jupyter": {
     "outputs_hidden": true
    },
    "tags": []
   },
   "outputs": [
    {
     "data": {
      "text/plain": [
       "'\\nConditionally Yours\\n\\nPseudocode:\\n1. Initialize variables original_price, current_price, increase, percent_increase, recommendation, threshold_to_buy, and threshold_to_sell\\n2. Compute increase\\n3. Compute percent_increase\\n4. IF percent_increase is greater than or equal to threshold_to_sell\\n        THEN Set recommendation to \"sell\"\\n    ELSE IF percent_increase is less than or equal to threshold_to_buy\\n        THEN set recommendation to \"buy\"\\n    ELSE IF percent_increase is less than threshold_to_sell and greater than threshold_to_buy\\n        THEN set recommendation to \"hold\"\\n    ELSE\\n        THEN print(\"Not enough data to make a decision. Need human input\")\\n5. Print(\"Recommendation: \" + recommendation)\\n6. Initialize variable balance as float\\n7. Compute balance_check\\n8. Print balance\\n9. IF recommendation equals \"buy\" and balance_check is greater than current_price\\n        THEN print(recommendation)\\n    ELSE IF recommendation equals buy and balance_check is less than current_price\\n        THEN print(\"You should buy, but you don\\'t have enough capital\")\\n    ELSE\\n        print(recommendation)\\n'"
      ]
     },
     "execution_count": 1,
     "metadata": {},
     "output_type": "execute_result"
    }
   ],
   "source": [
    "\"\"\"\n",
    "Conditionally Yours\n",
    "\n",
    "Pseudocode:\n",
    "1. Initialize variables original_price, current_price, increase, percent_increase, recommendation, threshold_to_buy, and threshold_to_sell\n",
    "2. Compute increase\n",
    "3. Compute percent_increase\n",
    "4. IF percent_increase is greater than or equal to threshold_to_sell\n",
    "        THEN Set recommendation to \"sell\"\n",
    "    ELSE IF percent_increase is less than or equal to threshold_to_buy\n",
    "        THEN set recommendation to \"buy\"\n",
    "    ELSE IF percent_increase is less than threshold_to_sell and greater than threshold_to_buy\n",
    "        THEN set recommendation to \"hold\"\n",
    "    ELSE\n",
    "        THEN print(\"Not enough data to make a decision. Need human input\")\n",
    "5. Print(\"Recommendation: \" + recommendation)\n",
    "6. Initialize variable balance as float\n",
    "7. Compute balance_check\n",
    "8. Print balance\n",
    "9. IF recommendation equals \"buy\" and balance_check is greater than current_price\n",
    "        THEN print(recommendation)\n",
    "    ELSE IF recommendation equals buy and balance_check is less than current_price\n",
    "        THEN print(\"You should buy, but you don't have enough capital\")\n",
    "    ELSE\n",
    "        print(recommendation)\n",
    "\"\"\""
   ]
  },
  {
   "cell_type": "code",
   "execution_count": 2,
   "id": "f183b744-4b86-4f74-a035-fb4fc8e236f2",
   "metadata": {},
   "outputs": [],
   "source": [
    "# Increase = Current Price - Original Price\n",
    "# Percent Increase = Increase / Original x 100"
   ]
  },
  {
   "cell_type": "code",
   "execution_count": 3,
   "id": "7993e250-59d7-42fe-aac5-ffd136bcbcf6",
   "metadata": {},
   "outputs": [],
   "source": [
    "# Create integer variable for original_price\n",
    "original_price = 360.35"
   ]
  },
  {
   "cell_type": "code",
   "execution_count": 4,
   "id": "3db8ee6a-b12c-41e6-ae89-0313d0b4ae53",
   "metadata": {},
   "outputs": [],
   "source": [
    "# Create integer variable for current_price\n",
    "current_price = 293.33"
   ]
  },
  {
   "cell_type": "code",
   "execution_count": 5,
   "id": "27954fd0-920d-41fa-bbd6-4d58c97cbec9",
   "metadata": {},
   "outputs": [],
   "source": [
    "# Create float for threshold_to_buy\n",
    "threshold_to_buy = -20.00"
   ]
  },
  {
   "cell_type": "code",
   "execution_count": 19,
   "id": "a3a2f8df-d877-4f7a-b412-e9114f281092",
   "metadata": {},
   "outputs": [],
   "source": [
    "# Create float for threshold_to_sell\n",
    "threshold_to_sell = 20.00"
   ]
  },
  {
   "cell_type": "code",
   "execution_count": 9,
   "id": "7a5b3a08-13d1-4ec1-a379-695b29419d79",
   "metadata": {},
   "outputs": [],
   "source": [
    "# Create string for recommendation, default will be buy\n",
    "recommendation = \"buy\""
   ]
  },
  {
   "cell_type": "code",
   "execution_count": 10,
   "id": "adab34c8-0867-4b02-9902-76b6c0e744e0",
   "metadata": {},
   "outputs": [],
   "source": [
    "# Calculate difference between current_price and original_price\n",
    "increase = current_price - original_price"
   ]
  },
  {
   "cell_type": "code",
   "execution_count": 14,
   "id": "833790ef-9146-4fc7-acfc-195ff30d0e2f",
   "metadata": {},
   "outputs": [],
   "source": [
    "# Calculate percent increase\n",
    "percent_increase = (increase / original_price) * 100"
   ]
  },
  {
   "cell_type": "code",
   "execution_count": 15,
   "id": "eaef2a12-9bfe-4231-b949-c6b7700931de",
   "metadata": {},
   "outputs": [
    {
     "name": "stdout",
     "output_type": "stream",
     "text": [
      "Netflix's original stock price was $360.35\n"
     ]
    }
   ],
   "source": [
    "# Print original_price\n",
    "print(f\"Netflix's original stock price was ${original_price}\")"
   ]
  },
  {
   "cell_type": "code",
   "execution_count": 16,
   "id": "b881b431-c861-44db-8de0-42ac6cd51726",
   "metadata": {},
   "outputs": [
    {
     "name": "stdout",
     "output_type": "stream",
     "text": [
      "Netflix's current stock price was $293.33\n"
     ]
    }
   ],
   "source": [
    "# Print current_price\n",
    "print(f\"Netflix's current stock price was ${current_price}\")"
   ]
  },
  {
   "cell_type": "code",
   "execution_count": 17,
   "id": "57886736-33dd-4326-883e-0679bb4dcfa9",
   "metadata": {},
   "outputs": [
    {
     "name": "stdout",
     "output_type": "stream",
     "text": [
      "Netflix's stock price changed by -18.60%\n"
     ]
    }
   ],
   "source": [
    "# Print percent increase\n",
    "print(f\"Netflix's stock price changed by {percent_increase:.2f}%\")"
   ]
  },
  {
   "cell_type": "code",
   "execution_count": 20,
   "id": "098dba36-5b7a-4c81-822b-c8cafcb32daf",
   "metadata": {},
   "outputs": [],
   "source": [
    "# Determine if stock should be bought or sold\n",
    "if percent_increase >= threshold_to_sell:\n",
    "    recommendation = \"sell\"\n",
    "elif percent_increase <= threshold_to_buy:\n",
    "    recommendation = \"buy\"\n",
    "elif percent_increase < threshold_to_sell and precent_increase > threshold_to_buy:\n",
    "    recommendation = \"hold\"\n",
    "else:\n",
    "    print(\"Not enough data to make a decision. Need human input.\")"
   ]
  },
  {
   "cell_type": "code",
   "execution_count": 21,
   "id": "ee667508-70a4-46e7-91a6-42e73b91287b",
   "metadata": {},
   "outputs": [
    {
     "name": "stdout",
     "output_type": "stream",
     "text": [
      "Recommendation: buy\n",
      "\n",
      "But wait a minute... lets check your excess equity first.\n"
     ]
    }
   ],
   "source": [
    "# Print recommendation\n",
    "print(\"Recommendation: \" + recommendation)\n",
    "print()\n",
    "print(\"But wait a minute... lets check your excess equity first.\")"
   ]
  },
  {
   "cell_type": "code",
   "execution_count": null,
   "id": "49cb3f82-20f5-47e6-8682-13e63b3d88df",
   "metadata": {},
   "outputs": [],
   "source": [
    "# Challenge"
   ]
  },
  {
   "cell_type": "code",
   "execution_count": 24,
   "id": "777fc85d-eacb-4906-9914-d1415cc05014",
   "metadata": {},
   "outputs": [],
   "source": [
    "# Declare balance variable as a float\n",
    "balance = 5000"
   ]
  },
  {
   "cell_type": "code",
   "execution_count": 25,
   "id": "8f9236a0-4f29-49a5-9f3f-0e9115c15fe2",
   "metadata": {},
   "outputs": [],
   "source": [
    "# Declare balance_check variable\n",
    "balance_check = balance * 5"
   ]
  },
  {
   "cell_type": "code",
   "execution_count": 26,
   "id": "7ac9452e-5723-4f16-8e2a-1575b890c292",
   "metadata": {},
   "outputs": [
    {
     "name": "stdout",
     "output_type": "stream",
     "text": [
      "You currently have $5000 in excess equity available in your portfolio.\n"
     ]
    }
   ],
   "source": [
    "# Compare balance to recommendation, checking whether or not balance is 5 times more than current_price\n",
    "print(f\"You currently have ${balance} in excess equity available in your portfolio.\")"
   ]
  },
  {
   "cell_type": "code",
   "execution_count": 27,
   "id": "179d9408-6246-4c5f-bc10-595d6f0d436a",
   "metadata": {},
   "outputs": [
    {
     "name": "stdout",
     "output_type": "stream",
     "text": [
      "Final Recommendation: buy\n"
     ]
    }
   ],
   "source": [
    "# IF-ELSE Logic to determine recommendation based off of balance check\n",
    "if recommendation == \"buy\" and balance_check > current_price:\n",
    "    print(\"Final Recommendation: \" + recommendation)\n",
    "elif recommendation == \"buy\" and balance_check < current_price:\n",
    "    print(\"Final Recommendation: You should buy. But you don't have enough available capital.\")\n",
    "else:\n",
    "    print(\"Final Recommendation: \" + recommendation)"
   ]
  },
  {
   "cell_type": "code",
   "execution_count": null,
   "id": "8877234b-b8cd-4e87-a3f4-b6bde858c4ca",
   "metadata": {},
   "outputs": [],
   "source": []
  },
  {
   "cell_type": "code",
   "execution_count": null,
   "id": "66e20d71-4974-4793-a7e3-e22ca429fead",
   "metadata": {},
   "outputs": [],
   "source": []
  },
  {
   "cell_type": "code",
   "execution_count": null,
   "id": "4a22b771-f9cc-4f9d-9506-e1a37998a009",
   "metadata": {},
   "outputs": [],
   "source": []
  }
 ],
 "metadata": {
  "kernelspec": {
   "display_name": "Python 3 (ipykernel)",
   "language": "python",
   "name": "python3"
  },
  "language_info": {
   "codemirror_mode": {
    "name": "ipython",
    "version": 3
   },
   "file_extension": ".py",
   "mimetype": "text/x-python",
   "name": "python",
   "nbconvert_exporter": "python",
   "pygments_lexer": "ipython3",
   "version": "3.9.12"
  }
 },
 "nbformat": 4,
 "nbformat_minor": 5
}
