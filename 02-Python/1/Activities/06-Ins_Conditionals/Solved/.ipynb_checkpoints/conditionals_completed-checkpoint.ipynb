{
 "cells": [
  {
   "cell_type": "code",
   "execution_count": 1,
   "id": "1f8a56ff-ead3-4c67-bcf8-8643356deb4a",
   "metadata": {},
   "outputs": [
    {
     "name": "stdout",
     "output_type": "stream",
     "text": [
      "something\n"
     ]
    }
   ],
   "source": [
    "# Demonstrate conditional statement\n",
    "if True:\n",
    "    print(\"something\")\n",
    "else:\n",
    "    print(\"something else\")"
   ]
  },
  {
   "cell_type": "code",
   "execution_count": 2,
   "id": "fda09529-f149-4437-9792-01b20e8a1404",
   "metadata": {},
   "outputs": [
    {
     "name": "stdout",
     "output_type": "stream",
     "text": [
      "Bring an unbrella!\n"
     ]
    }
   ],
   "source": [
    "# Demonstrate conditional with print statement\n",
    "is_raining = True\n",
    "if is_raining:\n",
    "    print(\"Bring an unbrella!\")\n",
    "else:\n",
    "    print(\"Leave the unbrella at home!\")"
   ]
  },
  {
   "cell_type": "code",
   "execution_count": 3,
   "id": "6a902c6b-31c6-4d63-ab9c-d1795b9661b3",
   "metadata": {},
   "outputs": [],
   "source": [
    "# Demonstrate equality\n",
    "x = 5\n",
    "if x == 1:\n",
    "    print(\"x is equal to 1\")"
   ]
  },
  {
   "cell_type": "code",
   "execution_count": 4,
   "id": "e03a7ea2-14cf-4278-883d-dd013e369dbd",
   "metadata": {},
   "outputs": [],
   "source": [
    "# Demonstrate using variables to store conditions\n",
    "x = 5\n",
    "y = 10\n",
    "if x == y:\n",
    "    print(\"x is equal to y\")"
   ]
  },
  {
   "cell_type": "code",
   "execution_count": 5,
   "id": "f5967cb7-f0ef-476c-88a2-8e111baa8147",
   "metadata": {},
   "outputs": [
    {
     "name": "stdout",
     "output_type": "stream",
     "text": [
      "y is not equal to 1\n"
     ]
    }
   ],
   "source": [
    "# Check inequality\n",
    "y = 9\n",
    "if y != 1:\n",
    "    print(\"y is not equal to 1\")"
   ]
  },
  {
   "cell_type": "code",
   "execution_count": 6,
   "id": "e457d9c1-4a06-41ca-8f8d-1e956f861af1",
   "metadata": {},
   "outputs": [],
   "source": [
    "# Declare variables and values for evaluation\n",
    "x = 1\n",
    "y = 10"
   ]
  },
  {
   "cell_type": "code",
   "execution_count": 7,
   "id": "d2ce3993-54f5-4880-bffc-e8a4993204da",
   "metadata": {},
   "outputs": [
    {
     "name": "stdout",
     "output_type": "stream",
     "text": [
      "x is equal to 1\n"
     ]
    }
   ],
   "source": [
    "# Checks if one value is equal to another\n",
    "if x == 1:\n",
    "    print(\"x is equal to 1\")"
   ]
  },
  {
   "cell_type": "code",
   "execution_count": 8,
   "id": "994ede9b-c6c5-41c4-bcaa-f70b2595a23d",
   "metadata": {},
   "outputs": [
    {
     "name": "stdout",
     "output_type": "stream",
     "text": [
      "y is not equal to 1\n"
     ]
    }
   ],
   "source": [
    "# Checks if one value is NOT equal to another\n",
    "if y != 1:\n",
    "    print(\"y is not equal to 1\")"
   ]
  },
  {
   "cell_type": "code",
   "execution_count": 9,
   "id": "35e493d9-2e26-4724-95d1-ab3d28c8861a",
   "metadata": {},
   "outputs": [
    {
     "name": "stdout",
     "output_type": "stream",
     "text": [
      "x is less than y\n"
     ]
    }
   ],
   "source": [
    "# Checks if one value is less than another\n",
    "if x < y:\n",
    "    print(\"x is less than y\")"
   ]
  },
  {
   "cell_type": "code",
   "execution_count": 10,
   "id": "16d39adc-4a54-4e0f-95a7-7c60804a956b",
   "metadata": {},
   "outputs": [
    {
     "name": "stdout",
     "output_type": "stream",
     "text": [
      "y is greater than x\n"
     ]
    }
   ],
   "source": [
    "# Checks if one value is greater than another\n",
    "if y > x:\n",
    "    print(\"y is greater than x\")"
   ]
  },
  {
   "cell_type": "code",
   "execution_count": 11,
   "id": "d60a7d78-6dfe-43f5-9d61-ff591d63c850",
   "metadata": {},
   "outputs": [
    {
     "name": "stdout",
     "output_type": "stream",
     "text": [
      "x is greater than or equal to 1\n"
     ]
    }
   ],
   "source": [
    "# Checks if a value is less than or equal to another\n",
    "if x >= 1:\n",
    "    print(\"x is greater than or equal to 1\")"
   ]
  },
  {
   "cell_type": "code",
   "execution_count": 12,
   "id": "b8da60e8-adf6-469b-8827-dda82200831b",
   "metadata": {},
   "outputs": [
    {
     "name": "stdout",
     "output_type": "stream",
     "text": [
      "Both value returned True\n"
     ]
    }
   ],
   "source": [
    "# Checks for two conditions to be met using \"and\"\n",
    "if x == 1 and y == 10:\n",
    "    print(\"Both value returned True\")"
   ]
  },
  {
   "cell_type": "code",
   "execution_count": 13,
   "id": "bae133df-8fd7-45e4-b7c8-5e15605a31d2",
   "metadata": {},
   "outputs": [],
   "source": [
    "# Checks for two conditions to be met using and\n",
    "if x == 1 and y < 10:\n",
    "    print(\"Both value returned True\")"
   ]
  },
  {
   "cell_type": "code",
   "execution_count": 14,
   "id": "4b7e70b1-58eb-48cb-ace5-5cc3d24b1baf",
   "metadata": {},
   "outputs": [
    {
     "name": "stdout",
     "output_type": "stream",
     "text": [
      "One or more of the statements were True\n"
     ]
    }
   ],
   "source": [
    "# Checks if either of two conditions is met\n",
    "if x < 45 or y < 5:\n",
    "    print(\"One or more of the statements were True\")"
   ]
  },
  {
   "cell_type": "code",
   "execution_count": 15,
   "id": "f1d206f4-f807-4f7e-86f6-5221aba77150",
   "metadata": {},
   "outputs": [
    {
     "name": "stdout",
     "output_type": "stream",
     "text": [
      "x is less than 10 and y is greater than 5\n"
     ]
    }
   ],
   "source": [
    "# Nested if statements\n",
    "if x < 10:\n",
    "    if y < 5:\n",
    "        print(\"x is less than 10 and y is less than 5\")\n",
    "    elif y == 5:\n",
    "        print(\"x is less than 10 and y is equal to 5\")\n",
    "    else:\n",
    "        print(\"x is less than 10 and y is greater than 5\")"
   ]
  },
  {
   "cell_type": "code",
   "execution_count": 16,
   "id": "484369d4-e89d-474d-b905-7ebc93f0d8e5",
   "metadata": {},
   "outputs": [
    {
     "name": "stdout",
     "output_type": "stream",
     "text": [
      "Insurance premium will increase. True or False?\n"
     ]
    }
   ],
   "source": [
    "# Nested if statements with insurance premium predictor\n",
    "accident = True\n",
    "at_fault = False\n",
    "accident_forgiveness = True\n",
    "elite_status = True\n",
    "\n",
    "increase_insurance_premium = True\n",
    "\n",
    "print(\"Insurance premium will increase. True or False?\")"
   ]
  },
  {
   "cell_type": "code",
   "execution_count": 17,
   "id": "3d518a18-2360-46f0-8b42-00762f031f5c",
   "metadata": {},
   "outputs": [
    {
     "name": "stdout",
     "output_type": "stream",
     "text": [
      "Prediction: False\n"
     ]
    }
   ],
   "source": [
    "# Nested Conditional Statements\n",
    "if accident:\n",
    "    if at_fault and accident_forgiveness:\n",
    "        increase_insurance_premium = False\n",
    "    elif at_fault and not accident_forgiveness and not elite_status:\n",
    "        increase_insurance_premium = True\n",
    "    else:\n",
    "        increase_insurance_premium = False\n",
    "elif not accident and elite_status:\n",
    "    increase_insurance_premium = False\n",
    "else:\n",
    "    increase_insurance_premium = True\n",
    "    \n",
    "print(f\"Prediction: {increase_insurance_premium}\")"
   ]
  },
  {
   "cell_type": "code",
   "execution_count": null,
   "id": "f6b7a783-3a23-4cba-80ac-f3489d07be8b",
   "metadata": {},
   "outputs": [],
   "source": []
  },
  {
   "cell_type": "code",
   "execution_count": null,
   "id": "56f2dd1a-5247-4e41-9d98-c898fdbd7aa5",
   "metadata": {},
   "outputs": [],
   "source": []
  },
  {
   "cell_type": "code",
   "execution_count": null,
   "id": "8a2d44f7-11bd-42a3-8ca7-51f7121d715c",
   "metadata": {},
   "outputs": [],
   "source": []
  },
  {
   "cell_type": "code",
   "execution_count": null,
   "id": "6823e7c2-e4eb-4c2d-ae3d-a740d8ae5ef5",
   "metadata": {},
   "outputs": [],
   "source": []
  },
  {
   "cell_type": "code",
   "execution_count": null,
   "id": "b3f9be0d-ce16-4034-aae9-b63e80f85a3d",
   "metadata": {},
   "outputs": [],
   "source": []
  },
  {
   "cell_type": "code",
   "execution_count": null,
   "id": "5ba25845-b067-4572-80b0-3ed963e0d9cd",
   "metadata": {},
   "outputs": [],
   "source": []
  },
  {
   "cell_type": "code",
   "execution_count": null,
   "id": "4294d123-593c-4020-8aac-382a6818222d",
   "metadata": {},
   "outputs": [],
   "source": []
  }
 ],
 "metadata": {
  "kernelspec": {
   "display_name": "Python 3 (ipykernel)",
   "language": "python",
   "name": "python3"
  },
  "language_info": {
   "codemirror_mode": {
    "name": "ipython",
    "version": 3
   },
   "file_extension": ".py",
   "mimetype": "text/x-python",
   "name": "python",
   "nbconvert_exporter": "python",
   "pygments_lexer": "ipython3",
   "version": "3.9.12"
  }
 },
 "nbformat": 4,
 "nbformat_minor": 5
}
