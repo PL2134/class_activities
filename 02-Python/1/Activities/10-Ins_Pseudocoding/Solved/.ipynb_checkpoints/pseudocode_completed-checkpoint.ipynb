{
 "cells": [
  {
   "cell_type": "code",
   "execution_count": 2,
   "id": "ed6d5b4c-5a1a-4111-bf9b-79f260c5a569",
   "metadata": {},
   "outputs": [
    {
     "data": {
      "text/plain": [
       "'\\n    Pseudocode for a cheer-leading program:\\n\\n    1. Initialize \"cheer\" variable to a string to be cheered\\n    2. Create a for loop and iterate through each character in \"cheer\" variable\\n        2.1 Print each letter to screen with a cheer\\n    3. Print exclaimation to screen (\"Woohoo!!!\")\\n'"
      ]
     },
     "execution_count": 2,
     "metadata": {},
     "output_type": "execute_result"
    }
   ],
   "source": [
    "\"\"\"\n",
    "    Pseudocode for a cheer-leading program:\n",
    "\n",
    "    1. Initialize \"cheer\" variable to a string to be cheered\n",
    "    2. Create a for loop and iterate through each character in \"cheer\" variable\n",
    "        2.1 Print each letter to screen with a cheer\n",
    "    3. Print exclaimation to screen (\"Woohoo!!!\")\n",
    "\"\"\""
   ]
  },
  {
   "cell_type": "code",
   "execution_count": 3,
   "id": "27e20068-b741-4710-b218-f617471c993d",
   "metadata": {},
   "outputs": [
    {
     "name": "stdout",
     "output_type": "stream",
     "text": [
      "Give me a P!\n",
      "P!\n",
      "Give me a y!\n",
      "y!\n",
      "Give me a t!\n",
      "t!\n",
      "Give me a h!\n",
      "h!\n",
      "Give me a o!\n",
      "o!\n",
      "Give me a n!\n",
      "n!\n",
      "\n",
      "What does that spell?!\n",
      "Python!\n",
      "Woohoo! Go Python!\n",
      "*\\O/**\\O/**\\O/*\n",
      "ヘ( ^o^)ノ＼(^_^ )\n"
     ]
    }
   ],
   "source": [
    "# Create a variable named cheer\n",
    "cheer = \"Python\"\n",
    "\n",
    "# Below strings can be used to add fun\n",
    "cheer_symbol = \"*\\O/*\"\n",
    "cheer_symbol_2 = \"ヘ( ^o^)ノ＼(^_^ )\"\n",
    "\n",
    "# Loop through string\n",
    "for x in cheer:\n",
    "    #Print each letter with a cheer\n",
    "    print(\"Give me a \" + x + \"!\")\n",
    "    print(x + \"!\")\n",
    "\n",
    "# Print excitement to screen\n",
    "print(\"\\nWhat does that spell?!\")\n",
    "print(cheer + \"!\\nWoohoo! Go \" + cheer + \"!\")\n",
    "print(cheer_symbol * 3)\n",
    "print(cheer_symbol_2)"
   ]
  },
  {
   "cell_type": "code",
   "execution_count": 4,
   "id": "33f93add-0eac-4667-9fe3-537bd46003cd",
   "metadata": {},
   "outputs": [
    {
     "data": {
      "text/plain": [
       "'\\nPseudocode for calculating simple interest:\\n\\n    1. Initialise \"principal\", \"interest_rate\", and \"time_period\" variables to a float\\n    2. Initialise \"time_period\" variable to an integer\\n    3. Compute \"simple_interest\" by multiplying \"principal\", \"interest_rate\", and \"time_period\"\\n    4. Determine if credit should be accepted\\n        IF \"simple_interest\" is less than or equal to 2000\\n            THEN print(\"We highly recommend you get this line of credit. Total simple interest paid is less than $2,000\")\\n        ELSE IF \"simple_interest\" is greater than 2000 but less than or equal to 4000\\n            THEN print(\"This is an okay deal. You might find better. Total simple interest paid will between $2,000 and $4,000\")\\n        ELSE print(\"Total simple interest paid will be over $4,000. Do not accept this line of credit\")\\n'"
      ]
     },
     "execution_count": 4,
     "metadata": {},
     "output_type": "execute_result"
    }
   ],
   "source": [
    "\"\"\"\n",
    "Pseudocode for calculating simple interest:\n",
    "\n",
    "    1. Initialise \"principal\", \"interest_rate\", and \"time_period\" variables to a float\n",
    "    2. Initialise \"time_period\" variable to an integer\n",
    "    3. Compute \"simple_interest\" by multiplying \"principal\", \"interest_rate\", and \"time_period\"\n",
    "    4. Determine if credit should be accepted\n",
    "        IF \"simple_interest\" is less than or equal to 2000\n",
    "            THEN print(\"We highly recommend you get this line of credit. Total simple interest paid is less than $2,000\")\n",
    "        ELSE IF \"simple_interest\" is greater than 2000 but less than or equal to 4000\n",
    "            THEN print(\"This is an okay deal. You might find better. Total simple interest paid will between $2,000 and $4,000\")\n",
    "        ELSE print(\"Total simple interest paid will be over $4,000. Do not accept this line of credit\")\n",
    "\"\"\""
   ]
  },
  {
   "cell_type": "code",
   "execution_count": 5,
   "id": "0da91255-d505-4b7f-bcd3-16a60517b00b",
   "metadata": {},
   "outputs": [
    {
     "name": "stdout",
     "output_type": "stream",
     "text": [
      "Simple interest for this purchase would be: 1600.0.\n"
     ]
    }
   ],
   "source": [
    "# Declare floats for principal, interest_rate, and time_period\n",
    "principal = 20000.00\n",
    "interest_rate = 0.02\n",
    "time_period = 4.0\n",
    "\n",
    "# Compute simple interest\n",
    "simple_interest = principal * interest_rate * time_period\n",
    "\n",
    "# Print Results\n",
    "print(f\"Simple interest for this purchase would be: {simple_interest}.\")"
   ]
  },
  {
   "cell_type": "code",
   "execution_count": null,
   "id": "bc17b10f-3a3b-4629-8b92-a279532ee333",
   "metadata": {},
   "outputs": [],
   "source": []
  },
  {
   "cell_type": "code",
   "execution_count": null,
   "id": "b11f900e-a36c-4624-9cba-83eb10cb2ca6",
   "metadata": {},
   "outputs": [],
   "source": []
  }
 ],
 "metadata": {
  "kernelspec": {
   "display_name": "Python 3 (ipykernel)",
   "language": "python",
   "name": "python3"
  },
  "language_info": {
   "codemirror_mode": {
    "name": "ipython",
    "version": 3
   },
   "file_extension": ".py",
   "mimetype": "text/x-python",
   "name": "python",
   "nbconvert_exporter": "python",
   "pygments_lexer": "ipython3",
   "version": "3.9.12"
  }
 },
 "nbformat": 4,
 "nbformat_minor": 5
}
