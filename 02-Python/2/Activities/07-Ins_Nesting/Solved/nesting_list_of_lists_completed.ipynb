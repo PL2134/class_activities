{
 "cells": [
  {
   "cell_type": "code",
   "execution_count": null,
   "id": "441f4e08-d6a4-4a5c-8f84-c4cd70b92d06",
   "metadata": {},
   "outputs": [],
   "source": [
    "# -*- coding: utf-8 -*-\n",
    "\"\"\"\n",
    "Instructor Demo: Nesting.\n",
    "\n",
    "This script showcases how to traverse nested lists of lists.\n",
    "\"\"\""
   ]
  },
  {
   "cell_type": "code",
   "execution_count": 1,
   "id": "7ad4ea1d-6305-4a1b-bd26-cd1ffc298e5d",
   "metadata": {},
   "outputs": [],
   "source": [
    "# List\n",
    "ceo_list = [\"Warren\", \"Jack\", \"Harry\"]"
   ]
  },
  {
   "cell_type": "code",
   "execution_count": 2,
   "id": "31de7d3a-5892-460c-818b-871fba3aaa3d",
   "metadata": {},
   "outputs": [],
   "source": [
    "# List of Lists\n",
    "ceo_nested_list = [\n",
    "    [\"Warren Buffet\", 88, \"CEO of Berkshire Hathaway\"],\n",
    "    [\"Jeff Bezos\", 55, \"CEO of Amazon\"],\n",
    "    [\"Harry Markowitz\", 91, \"Professor of Finance\"]\n",
    "]"
   ]
  },
  {
   "cell_type": "code",
   "execution_count": 4,
   "id": "fb101a04-3045-4e00-b3de-bf42144c6a65",
   "metadata": {},
   "outputs": [
    {
     "data": {
      "text/plain": [
       "['Warren Buffet', 88, 'CEO of Berkshire Hathaway']"
      ]
     },
     "execution_count": 4,
     "metadata": {},
     "output_type": "execute_result"
    }
   ],
   "source": [
    "# Retrieve first entry of ceo_nested_list\n",
    "first_entry = ceo_nested_list[0]\n",
    "first_entry"
   ]
  },
  {
   "cell_type": "code",
   "execution_count": 6,
   "id": "31d4af4a-823b-48c6-a33d-acce2568e2f7",
   "metadata": {},
   "outputs": [
    {
     "data": {
      "text/plain": [
       "'Warren Buffet'"
      ]
     },
     "execution_count": 6,
     "metadata": {},
     "output_type": "execute_result"
    }
   ],
   "source": [
    "# Retrieve name of first entry\n",
    "first_entry_name = ceo_nested_list[0][0]\n",
    "first_entry_name"
   ]
  },
  {
   "cell_type": "code",
   "execution_count": 7,
   "id": "0a3846d0-e130-46e5-9561-0cc1527d940c",
   "metadata": {},
   "outputs": [
    {
     "data": {
      "text/plain": [
       "88"
      ]
     },
     "execution_count": 7,
     "metadata": {},
     "output_type": "execute_result"
    }
   ],
   "source": [
    "# Retrieve age of first entry\n",
    "first_entry_age = ceo_nested_list[0][1]\n",
    "first_entry_age"
   ]
  },
  {
   "cell_type": "code",
   "execution_count": 12,
   "id": "07765cf9-20d5-49a5-a1c8-d1db82d45785",
   "metadata": {},
   "outputs": [
    {
     "data": {
      "text/plain": [
       "'CEO of Berkshire Hathaway'"
      ]
     },
     "execution_count": 12,
     "metadata": {},
     "output_type": "execute_result"
    }
   ],
   "source": [
    "# Retrieve occupation of first entry\n",
    "first_entry_occupation = ceo_nested_list[0][2]\n",
    "first_entry_occupation"
   ]
  },
  {
   "cell_type": "code",
   "execution_count": 13,
   "id": "5a2e5b03-c36a-4c08-b610-bfa8bf41ad84",
   "metadata": {},
   "outputs": [
    {
     "name": "stdout",
     "output_type": "stream",
     "text": [
      "The first entry in employees_nested_list is: ['Warren Buffet', 88, 'CEO of Berkshire Hathaway']\n",
      "Warren Buffet is 88 years old, serving as CEO of Berkshire Hathaway.\n"
     ]
    }
   ],
   "source": [
    "# Print results to screen\n",
    "print(\"The first entry in employees_nested_list is:\", first_entry)\n",
    "print(f\"{first_entry_name} is {first_entry_age} years old, serving as {first_entry_occupation}.\")"
   ]
  },
  {
   "cell_type": "code",
   "execution_count": null,
   "id": "4803938d-5c1c-4343-ace5-0bdd4ed78852",
   "metadata": {},
   "outputs": [],
   "source": []
  },
  {
   "cell_type": "code",
   "execution_count": null,
   "id": "cace08e9-3e6a-42ce-83a5-6be7f33ed128",
   "metadata": {},
   "outputs": [],
   "source": []
  },
  {
   "cell_type": "code",
   "execution_count": null,
   "id": "ac9b8269-12b1-44a0-8a05-250b4db99d5a",
   "metadata": {},
   "outputs": [],
   "source": []
  }
 ],
 "metadata": {
  "kernelspec": {
   "display_name": "Python 3 (ipykernel)",
   "language": "python",
   "name": "python3"
  },
  "language_info": {
   "codemirror_mode": {
    "name": "ipython",
    "version": 3
   },
   "file_extension": ".py",
   "mimetype": "text/x-python",
   "name": "python",
   "nbconvert_exporter": "python",
   "pygments_lexer": "ipython3",
   "version": "3.9.12"
  }
 },
 "nbformat": 4,
 "nbformat_minor": 5
}
