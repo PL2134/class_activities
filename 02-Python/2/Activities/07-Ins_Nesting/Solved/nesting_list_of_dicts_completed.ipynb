{
 "cells": [
  {
   "cell_type": "code",
   "execution_count": null,
   "id": "35b026cc-66b1-4981-9b39-f837309ff02c",
   "metadata": {},
   "outputs": [],
   "source": [
    "# -*- coding: utf-8 -*-\n",
    "\"\"\"\n",
    "Instructor Demo: Nesting.\n",
    "\n",
    "This script showcases how to traverse list of dicts.\n",
    "\"\"\""
   ]
  },
  {
   "cell_type": "code",
   "execution_count": 1,
   "id": "8fc19e33-de8c-484d-8306-5f9717fc7326",
   "metadata": {},
   "outputs": [],
   "source": [
    "# List of Dicts\n",
    "ceo_nested_dict = [\n",
    "    {\n",
    "        \"name\": \"Warren Buffet\",\n",
    "        \"age\": 88,\n",
    "        \"occupation\": \"CEO of Berkshire Hathaway\"\n",
    "    },\n",
    "    {\n",
    "        \"name\": \"Jeff Bezos\",\n",
    "        \"age\": 55,\n",
    "        \"occupation\": \"CEO of Amazon\"\n",
    "    },\n",
    "    {\n",
    "        \"name\": \"Harry Markowitz\",\n",
    "        \"age\": 91,\n",
    "        \"occupation\": \"Professor of Finance\"\n",
    "    }\n",
    "]"
   ]
  },
  {
   "cell_type": "code",
   "execution_count": 3,
   "id": "5ebc2c66-8228-471d-8365-5427dda79258",
   "metadata": {},
   "outputs": [
    {
     "name": "stdout",
     "output_type": "stream",
     "text": [
      "{'name': 'Jeff Bezos', 'age': 55, 'occupation': 'CEO of Amazon'}\n"
     ]
    }
   ],
   "source": [
    "# Retrieve second entry\n",
    "second_entry = ceo_nested_dict[1]\n",
    "print(second_entry)"
   ]
  },
  {
   "cell_type": "code",
   "execution_count": 4,
   "id": "26d8564d-cbe2-4e74-b03f-aae5bad33037",
   "metadata": {},
   "outputs": [],
   "source": [
    "# Retrieve name, age, and occupation of the second dict entry\n",
    "second_entry_name = ceo_nested_dict[1][\"name\"]\n",
    "second_entry_age = ceo_nested_dict[1][\"age\"]\n",
    "second_entry_occupation = ceo_nested_dict[1][\"occupation\"]"
   ]
  },
  {
   "cell_type": "code",
   "execution_count": 5,
   "id": "86aee457-47cd-4149-a961-e15828fa8cb0",
   "metadata": {},
   "outputs": [
    {
     "name": "stdout",
     "output_type": "stream",
     "text": [
      "The second entry in ceo_nested_dict is Jeff Bezos, a 55 year old CEO of Amazon.\n"
     ]
    }
   ],
   "source": [
    "# Print results to the screen\n",
    "print(f\"The second entry in ceo_nested_dict is {second_entry_name}, a {second_entry_age} year old {second_entry_occupation}.\")"
   ]
  },
  {
   "cell_type": "code",
   "execution_count": null,
   "id": "444f84e0-af46-4d98-8a41-7f184038f525",
   "metadata": {},
   "outputs": [],
   "source": []
  },
  {
   "cell_type": "code",
   "execution_count": null,
   "id": "57681003-805e-41ce-9a5f-54d6cfb61c06",
   "metadata": {},
   "outputs": [],
   "source": []
  },
  {
   "cell_type": "code",
   "execution_count": null,
   "id": "6c732f6a-9b64-49cb-ba13-2e2749c15a3a",
   "metadata": {},
   "outputs": [],
   "source": []
  },
  {
   "cell_type": "code",
   "execution_count": null,
   "id": "08f9deaa-f578-4355-9453-52c23046ef48",
   "metadata": {},
   "outputs": [],
   "source": []
  },
  {
   "cell_type": "code",
   "execution_count": null,
   "id": "7731cc8c-447f-44a0-93d7-428cb94f0c06",
   "metadata": {},
   "outputs": [],
   "source": []
  },
  {
   "cell_type": "code",
   "execution_count": null,
   "id": "abfb7222-71bd-4b85-b810-a93c3bdd5284",
   "metadata": {},
   "outputs": [],
   "source": []
  },
  {
   "cell_type": "code",
   "execution_count": null,
   "id": "834a3542-eedd-4d2d-8b5c-13bc8e4316f4",
   "metadata": {},
   "outputs": [],
   "source": []
  },
  {
   "cell_type": "code",
   "execution_count": null,
   "id": "f39aea6f-4137-41b4-ae99-976e892bd2b0",
   "metadata": {},
   "outputs": [],
   "source": []
  }
 ],
 "metadata": {
  "kernelspec": {
   "display_name": "Python 3 (ipykernel)",
   "language": "python",
   "name": "python3"
  },
  "language_info": {
   "codemirror_mode": {
    "name": "ipython",
    "version": 3
   },
   "file_extension": ".py",
   "mimetype": "text/x-python",
   "name": "python",
   "nbconvert_exporter": "python",
   "pygments_lexer": "ipython3",
   "version": "3.9.12"
  }
 },
 "nbformat": 4,
 "nbformat_minor": 5
}
