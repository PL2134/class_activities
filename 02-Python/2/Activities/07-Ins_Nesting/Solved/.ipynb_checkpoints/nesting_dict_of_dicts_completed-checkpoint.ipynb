{
 "cells": [
  {
   "cell_type": "code",
   "execution_count": null,
   "id": "4f5dcf03-0c3f-400d-baa0-0e0ecd345091",
   "metadata": {},
   "outputs": [],
   "source": [
    "# -*- coding: utf-8 -*-\n",
    "\"\"\"\n",
    "Instructor Demo: Nesting.\n",
    "\n",
    "This script showcases how to traverse dictionary of dicts.\n",
    "\"\"\""
   ]
  },
  {
   "cell_type": "code",
   "execution_count": 1,
   "id": "b7ffaa92-18ee-4af3-a8be-dba4c57006b7",
   "metadata": {},
   "outputs": [],
   "source": [
    "# Dictionary of Dicts\n",
    "stocks_nested_dict = {\n",
    "    \"APPL\": {\n",
    "        \"name\": \"Apple\",\n",
    "        \"exchange\": \"NASDAQ\",\n",
    "        \"market_cap\": 937.7\n",
    "    },\n",
    "    \"MU\": {\n",
    "        \"name\": \"Micron Technology\",\n",
    "        \"exchange\": \"NASDAQ\",\n",
    "        \"market_cap\": 48.03\n",
    "    },\n",
    "    \"AMD\": {\n",
    "        \"name\": \"Advanced Micro Devices\",\n",
    "        \"exchange\": \"NASDAQ\",\n",
    "        \"market_cap\": 29.94\n",
    "    },\n",
    "    \"TWTR\": {\n",
    "        \"name\": \"Twitter\",\n",
    "        \"exchange\": \"NASDAQ\",\n",
    "        \"market_cap\": 26.42\n",
    "    }\n",
    "}"
   ]
  },
  {
   "cell_type": "code",
   "execution_count": 3,
   "id": "21bed322-2a14-436d-a53f-b30708bd810c",
   "metadata": {},
   "outputs": [
    {
     "name": "stdout",
     "output_type": "stream",
     "text": [
      "{'name': 'Twitter', 'exchange': 'NASDAQ', 'market_cap': 26.42}\n"
     ]
    }
   ],
   "source": [
    "# Retrieve Twitter entry\n",
    "twitter_entry = stocks_nested_dict[\"TWTR\"]\n",
    "print(twitter_entry)"
   ]
  },
  {
   "cell_type": "code",
   "execution_count": 4,
   "id": "84ab485b-453e-48a0-ba10-58f56933561f",
   "metadata": {},
   "outputs": [],
   "source": [
    "# Retrieve TWTR name, exchange, and market_cap\n",
    "twitter_name = stocks_nested_dict[\"TWTR\"][\"name\"]\n",
    "twitter_exchange = stocks_nested_dict[\"TWTR\"][\"exchange\"]\n",
    "twitter_market_cap = stocks_nested_dict[\"TWTR\"][\"market_cap\"]"
   ]
  },
  {
   "cell_type": "code",
   "execution_count": 5,
   "id": "51430e0c-464c-4505-a42d-55ae6447f507",
   "metadata": {},
   "outputs": [
    {
     "name": "stdout",
     "output_type": "stream",
     "text": [
      "Name of TWTR ticker is Twitter. TWTR is available on NASDAQ, and it currently has a market capitalization of 26.42.\n"
     ]
    }
   ],
   "source": [
    "# Print results to screen\n",
    "print(f\"Name of TWTR ticker is {twitter_name}. TWTR is available on {twitter_exchange}, and it currently has a market capitalization of {twitter_market_cap}.\")"
   ]
  },
  {
   "cell_type": "code",
   "execution_count": null,
   "id": "75fe5220-45a5-4edf-8ea4-e93047895a89",
   "metadata": {},
   "outputs": [],
   "source": []
  },
  {
   "cell_type": "code",
   "execution_count": null,
   "id": "1f704f78-e115-4779-a113-c8bff2c6eb43",
   "metadata": {},
   "outputs": [],
   "source": []
  },
  {
   "cell_type": "code",
   "execution_count": null,
   "id": "74b4f13c-6ed1-4bdf-af8d-579f2fd35b54",
   "metadata": {},
   "outputs": [],
   "source": []
  },
  {
   "cell_type": "code",
   "execution_count": null,
   "id": "950c436c-52d6-4b8c-804b-76943a2544b9",
   "metadata": {},
   "outputs": [],
   "source": []
  },
  {
   "cell_type": "code",
   "execution_count": null,
   "id": "74748b6e-3d51-420a-98f5-311931650d13",
   "metadata": {},
   "outputs": [],
   "source": []
  },
  {
   "cell_type": "code",
   "execution_count": null,
   "id": "95d31931-57c1-4abc-a6e8-ee4a0b856c0b",
   "metadata": {},
   "outputs": [],
   "source": []
  },
  {
   "cell_type": "code",
   "execution_count": null,
   "id": "6a0f8582-4192-45e3-b47c-f5440bec4cb8",
   "metadata": {},
   "outputs": [],
   "source": []
  },
  {
   "cell_type": "code",
   "execution_count": null,
   "id": "7ade98bc-5d5a-467e-97f5-0a8da365c45c",
   "metadata": {},
   "outputs": [],
   "source": []
  },
  {
   "cell_type": "code",
   "execution_count": null,
   "id": "dcba49d4-0caf-488b-8999-71df200c8d2f",
   "metadata": {},
   "outputs": [],
   "source": []
  },
  {
   "cell_type": "code",
   "execution_count": null,
   "id": "a9f9e70b-9e33-4c8f-aff3-84ecd7b10637",
   "metadata": {},
   "outputs": [],
   "source": []
  }
 ],
 "metadata": {
  "kernelspec": {
   "display_name": "Python 3 (ipykernel)",
   "language": "python",
   "name": "python3"
  },
  "language_info": {
   "codemirror_mode": {
    "name": "ipython",
    "version": 3
   },
   "file_extension": ".py",
   "mimetype": "text/x-python",
   "name": "python",
   "nbconvert_exporter": "python",
   "pygments_lexer": "ipython3",
   "version": "3.9.12"
  }
 },
 "nbformat": 4,
 "nbformat_minor": 5
}
