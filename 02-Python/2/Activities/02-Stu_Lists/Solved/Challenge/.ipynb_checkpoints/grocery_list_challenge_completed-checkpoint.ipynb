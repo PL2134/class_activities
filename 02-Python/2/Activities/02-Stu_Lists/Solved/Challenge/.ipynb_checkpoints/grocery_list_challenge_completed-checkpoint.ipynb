{
 "cells": [
  {
   "cell_type": "code",
   "execution_count": 1,
   "id": "f92af220-26af-46e3-89da-078fb92b73be",
   "metadata": {
    "tags": []
   },
   "outputs": [
    {
     "data": {
      "text/plain": [
       "'\\nStudent Do: Grocery List.\\n\\nThis script showcases basic operations of Python Lists to help Mike\\norganize his grocery shopping list.\\n'"
      ]
     },
     "execution_count": 1,
     "metadata": {},
     "output_type": "execute_result"
    }
   ],
   "source": [
    "# -*- coding: utf-8 -*-\n",
    "\"\"\"\n",
    "Student Do: Grocery List.\n",
    "\n",
    "This script showcases basic operations of Python Lists to help Mike\n",
    "organize his grocery shopping list.\n",
    "\"\"\""
   ]
  },
  {
   "cell_type": "code",
   "execution_count": 2,
   "id": "c359889f-166e-4df1-8213-b525fad96e2b",
   "metadata": {},
   "outputs": [
    {
     "name": "stdout",
     "output_type": "stream",
     "text": [
      "My list of groceries:\n",
      "['water', 'butter', 'eggs', 'apples', 'cinnamon', 'sugar', 'milk']\n",
      "\n"
     ]
    }
   ],
   "source": [
    "# @TODO: Create a list of groceries\n",
    "print(\"My list of groceries:\")\n",
    "groceries = [\"water\", \"butter\", \"eggs\", \"apples\", \"cinnamon\", \"sugar\", \"milk\"]\n",
    "print(groceries)\n",
    "print()"
   ]
  },
  {
   "cell_type": "code",
   "execution_count": 3,
   "id": "a3a29b54-a4e8-4704-8298-d550ff7ef173",
   "metadata": {},
   "outputs": [
    {
     "name": "stdout",
     "output_type": "stream",
     "text": [
      "What are my first two items on the list?\n",
      "['water', 'butter']\n",
      "\n"
     ]
    }
   ],
   "source": [
    "# @TODO: Find the first two items on the list\n",
    "print(\"What are my first two items on the list?\")\n",
    "print(groceries[:2])\n",
    "print()"
   ]
  },
  {
   "cell_type": "code",
   "execution_count": 4,
   "id": "94eb7b9c-c214-4ce5-9f99-f8b0b920aff8",
   "metadata": {},
   "outputs": [
    {
     "name": "stdout",
     "output_type": "stream",
     "text": [
      "What are all my items except for the first two on the list?\n",
      "['eggs', 'apples', 'cinnamon', 'sugar', 'milk']\n",
      "\n"
     ]
    }
   ],
   "source": [
    "# @TODO: Find the last five items on the list\n",
    "print(\"What are all my items except for the first two on the list?\")\n",
    "print(groceries[2:])\n",
    "print()"
   ]
  },
  {
   "cell_type": "code",
   "execution_count": 5,
   "id": "81c0ad69-4119-4f05-a4ca-b25e2c3c8cbf",
   "metadata": {},
   "outputs": [
    {
     "name": "stdout",
     "output_type": "stream",
     "text": [
      "What is every other item on the list, starting from the second item?\n",
      "['butter', 'apples', 'sugar']\n",
      "\n"
     ]
    }
   ],
   "source": [
    "# @TODO: Find every other item on the list, starting from the second item\n",
    "print(\"What is every other item on the list, starting from the second item?\")\n",
    "print(groceries[1::2])\n",
    "print()"
   ]
  },
  {
   "cell_type": "code",
   "execution_count": 6,
   "id": "e10eae23-be9e-4171-8cca-f5f9a7b7dab3",
   "metadata": {},
   "outputs": [
    {
     "name": "stdout",
     "output_type": "stream",
     "text": [
      "Oops, forgot to add flour...\n",
      "['water', 'butter', 'eggs', 'apples', 'cinnamon', 'sugar', 'milk', 'flour']\n",
      "\n"
     ]
    }
   ],
   "source": [
    "# @TODO: Add an element to the end of the list\n",
    "print(\"Oops, forgot to add flour...\")\n",
    "groceries.append(\"flour\")\n",
    "print(groceries)\n",
    "print()"
   ]
  },
  {
   "cell_type": "code",
   "execution_count": 7,
   "id": "2607e9fa-f9dc-418d-b7f6-01fb65878dac",
   "metadata": {},
   "outputs": [
    {
     "name": "stdout",
     "output_type": "stream",
     "text": [
      "I should be more specific with what kind of apples I want...\n",
      "['water', 'butter', 'eggs', 'gala apples', 'cinnamon', 'sugar', 'milk', 'flour']\n",
      "\n"
     ]
    }
   ],
   "source": [
    "# @TODO: Changes a specified element within the list at the given index\n",
    "print(\"I should be more specific with what kind of apples I want...\")\n",
    "groceries[3] = \"gala apples\"\n",
    "print(groceries)\n",
    "print()"
   ]
  },
  {
   "cell_type": "code",
   "execution_count": 8,
   "id": "630ab4f5-aae1-4737-ab51-3b93f8949163",
   "metadata": {},
   "outputs": [
    {
     "name": "stdout",
     "output_type": "stream",
     "text": [
      "How many items do I have on my shopping list?\n",
      "8\n",
      "\n"
     ]
    }
   ],
   "source": [
    "# @TODO: Calculate how many items you have in the list\n",
    "print(\"How many items do I have on my shopping list?\")\n",
    "print(len(groceries))\n",
    "print()"
   ]
  },
  {
   "cell_type": "code",
   "execution_count": 9,
   "id": "51f90685-d048-4079-a7e5-b52d262f62fe",
   "metadata": {},
   "outputs": [
    {
     "name": "stdout",
     "output_type": "stream",
     "text": [
      "Where is 'gala apples' in the list index?\n",
      "['water', 'butter', 'eggs', 'gala apples', 'cinnamon', 'sugar', 'milk', 'flour']\n",
      "3\n",
      "\n"
     ]
    }
   ],
   "source": [
    "# ----------------------Go to the grocery store---------------------------\")\n",
    "\n",
    "# @TODO: Find the index of the particular element name\n",
    "print(\"Where is 'gala apples' in the list index?\")\n",
    "print(groceries)\n",
    "print(groceries.index(\"gala apples\"))\n",
    "print()"
   ]
  },
  {
   "cell_type": "code",
   "execution_count": 10,
   "id": "09d78fd3-c66d-46b6-adcf-64a19ef7e827",
   "metadata": {},
   "outputs": [
    {
     "name": "stdout",
     "output_type": "stream",
     "text": [
      "Picked up some sugar!\n",
      "['water', 'butter', 'eggs', 'gala apples', 'cinnamon', 'milk', 'flour']\n",
      "\n"
     ]
    }
   ],
   "source": [
    "# @TODO: Remove an element from the list based on the given element name\n",
    "print(\"Picked up some sugar!\")\n",
    "groceries.remove(\"sugar\")\n",
    "print(groceries)\n",
    "print()"
   ]
  },
  {
   "cell_type": "code",
   "execution_count": 11,
   "id": "0afba873-62e3-4fe8-9dfc-96a40c1bcad4",
   "metadata": {},
   "outputs": [
    {
     "name": "stdout",
     "output_type": "stream",
     "text": [
      "Actually, I don't need water. I have some at home...\n",
      "['butter', 'eggs', 'gala apples', 'cinnamon', 'milk', 'flour']\n",
      "\n"
     ]
    }
   ],
   "source": [
    "# @TODO: Remove an element from the list based on the given index\n",
    "print(\"Actually, I don't need water. I have some at home...\")\n",
    "water_index = groceries.index(\"water\")\n",
    "groceries.pop(water_index)\n",
    "print(groceries)\n",
    "print()"
   ]
  },
  {
   "cell_type": "code",
   "execution_count": 14,
   "id": "41f59e88-de34-4f7f-be89-ae5043942488",
   "metadata": {},
   "outputs": [
    {
     "name": "stdout",
     "output_type": "stream",
     "text": [
      "I'm going to pick up the last item on the list...\n",
      "['butter', 'eggs', 'gala apples', 'cinnamon', 'milk']\n",
      "\n"
     ]
    }
   ],
   "source": [
    "# @TODO: Remove the last element of the list\n",
    "print(\"I'm going to pick up the last item on the list...\")\n",
    "groceries.pop(-1)\n",
    "print(groceries)\n",
    "print()"
   ]
  },
  {
   "cell_type": "code",
   "execution_count": 13,
   "id": "3837a7a4-c02d-4254-9d4c-b9bc2e4d7646",
   "metadata": {},
   "outputs": [
    {
     "name": "stdout",
     "output_type": "stream",
     "text": [
      "You continue on your journey purchasing groceries...\n"
     ]
    }
   ],
   "source": [
    "print(\"You continue on your journey purchasing groceries...\")"
   ]
  },
  {
   "cell_type": "code",
   "execution_count": null,
   "id": "71ea9d98-55ba-4134-9adf-8bb14c493d02",
   "metadata": {},
   "outputs": [],
   "source": []
  },
  {
   "cell_type": "code",
   "execution_count": null,
   "id": "47d9b08d-4ce3-4f98-812d-d30eb7418482",
   "metadata": {},
   "outputs": [],
   "source": []
  },
  {
   "cell_type": "code",
   "execution_count": null,
   "id": "d1a672c7-1722-46a8-859f-278f1c7fb440",
   "metadata": {},
   "outputs": [],
   "source": []
  },
  {
   "cell_type": "code",
   "execution_count": null,
   "id": "9f5d469c-4fd8-4c97-999e-0a95a98539ac",
   "metadata": {},
   "outputs": [],
   "source": []
  },
  {
   "cell_type": "code",
   "execution_count": null,
   "id": "a8430364-2ea6-4f78-8972-47f966c1ffce",
   "metadata": {},
   "outputs": [],
   "source": []
  },
  {
   "cell_type": "code",
   "execution_count": null,
   "id": "2e3546cb-59cc-4aaf-a644-5223530b68bd",
   "metadata": {},
   "outputs": [],
   "source": []
  },
  {
   "cell_type": "code",
   "execution_count": null,
   "id": "0e01031e-6761-4bcb-843e-79dad2aff728",
   "metadata": {},
   "outputs": [],
   "source": []
  },
  {
   "cell_type": "code",
   "execution_count": null,
   "id": "0e78dbdc-ab11-42d5-8f07-fdbd38c609ae",
   "metadata": {},
   "outputs": [],
   "source": []
  },
  {
   "cell_type": "code",
   "execution_count": null,
   "id": "3a2678da-0b6d-42c8-8ae3-485b960523d8",
   "metadata": {},
   "outputs": [],
   "source": []
  },
  {
   "cell_type": "code",
   "execution_count": null,
   "id": "d3a1ce64-b8d4-452a-9bc5-e5d1e336f7ad",
   "metadata": {},
   "outputs": [],
   "source": []
  }
 ],
 "metadata": {
  "kernelspec": {
   "display_name": "Python 3 (ipykernel)",
   "language": "python",
   "name": "python3"
  },
  "language_info": {
   "codemirror_mode": {
    "name": "ipython",
    "version": 3
   },
   "file_extension": ".py",
   "mimetype": "text/x-python",
   "name": "python",
   "nbconvert_exporter": "python",
   "pygments_lexer": "ipython3",
   "version": "3.9.12"
  }
 },
 "nbformat": 4,
 "nbformat_minor": 5
}
