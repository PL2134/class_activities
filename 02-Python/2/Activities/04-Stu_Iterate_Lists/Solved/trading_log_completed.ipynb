{
 "cells": [
  {
   "cell_type": "code",
   "execution_count": null,
   "id": "9ac67fba-c6c5-4a85-89e6-863dfd6b1cb0",
   "metadata": {},
   "outputs": [],
   "source": [
    "# -*- coding: utf-8 -*-\n",
    "\"\"\"\n",
    "Student Do: Trading Log.\n",
    "\n",
    "This script demonstrates how to perform basic analysis of trading profits/losses\n",
    "over the course of a month (20 business days).\n",
    "\"\"\""
   ]
  },
  {
   "cell_type": "code",
   "execution_count": 2,
   "id": "ace5e435-c3bb-4ece-ba69-792061456229",
   "metadata": {},
   "outputs": [],
   "source": [
    "# @TODO: Initialize the metric variables\n",
    "count = 0\n",
    "total = 0\n",
    "average = 0\n",
    "minimum = 0\n",
    "maximum = 0"
   ]
  },
  {
   "cell_type": "code",
   "execution_count": 3,
   "id": "2430aae8-ba0a-4344-b655-c8a545111e5d",
   "metadata": {},
   "outputs": [],
   "source": [
    "# @TODO: Initialize lists to hold profitable and unprofitable day profits/losses\n",
    "profitable_days = []\n",
    "unprofitable_days = []"
   ]
  },
  {
   "cell_type": "code",
   "execution_count": 4,
   "id": "4be70f3d-e714-42c8-a6e2-21d5d42c544b",
   "metadata": {},
   "outputs": [],
   "source": [
    "# List of trading profits/losses\n",
    "trading_pnl = [ -224,  352, 252, 354, -544,\n",
    "                -650,   56, 123, -43,  254,\n",
    "                 325, -123,  47, 321,  123,\n",
    "                 133, -151, 613, 232, -311 ]"
   ]
  },
  {
   "cell_type": "code",
   "execution_count": 5,
   "id": "53e6c9fb-2031-4c23-afcf-14ac1b48e2b9",
   "metadata": {},
   "outputs": [],
   "source": [
    "# @TODO: Iterate over each element of the list\n",
    "for day_pnl in trading_pnl:\n",
    "    \n",
    "    # @TODO: Cumulatively sum up the total and count\n",
    "    total += day_pnl\n",
    "    count += 1\n",
    "\n",
    "    # @TODO: Write logic to determine minimum and maximum values\n",
    "    if minimum == 0:\n",
    "        minimum = day_pnl\n",
    "    elif day_pnl < minimum:\n",
    "        minimum = day_pnl\n",
    "    elif day_pnl > maximum:\n",
    "        maximum = day_pnl\n",
    "\n",
    "    # @TODO: Write logic to determine profitable vs. unprofitable days\n",
    "    if day_pnl > 0:\n",
    "        profitable_days.append(day_pnl)\n",
    "    elif day_pnl < 0:\n",
    "        unprofitable_days.append(day_pnl)"
   ]
  },
  {
   "cell_type": "code",
   "execution_count": 6,
   "id": "ec2490cc-3cec-4164-8a2b-5b0682d179cc",
   "metadata": {},
   "outputs": [],
   "source": [
    "# @TODO: Calculate the average\n",
    "average = round(total / count, 2)"
   ]
  },
  {
   "cell_type": "code",
   "execution_count": 7,
   "id": "13ff8aa8-fe7e-489a-97b2-869049ca65bc",
   "metadata": {},
   "outputs": [],
   "source": [
    "# @TODO: Calculate count metrics\n",
    "profitable_count = len(profitable_days)\n",
    "unprofitable_count = len(unprofitable_days)"
   ]
  },
  {
   "cell_type": "code",
   "execution_count": 8,
   "id": "fca0b0e8-f1f0-4629-a78e-144d434b7100",
   "metadata": {},
   "outputs": [],
   "source": [
    "# @TODO: Calculate percentage metrics\n",
    "profitable_percent = (profitable_count / count) * 100\n",
    "unprofitable_percent = (unprofitable_count / count) * 100"
   ]
  },
  {
   "cell_type": "code",
   "execution_count": 9,
   "id": "30d2bb21-c0e1-4c21-9995-f9df0957cc2c",
   "metadata": {},
   "outputs": [
    {
     "name": "stdout",
     "output_type": "stream",
     "text": [
      "---------Summary Statistics----------\n",
      "Number of Total Days: 20\n",
      "Number of Profitable Days: 13\n",
      "Number of Unprofitable Days: 7\n",
      "Percentage of Profitable Days: 65.0%\n",
      "Percentage of Unprofitable Days: 35.0%\n",
      "-------------------------------------\n",
      "Total Profits/Losses: 1139\n",
      "Daily Average: 56.95\n",
      "Worst Loss: -650\n",
      "Best Gain: 613\n"
     ]
    }
   ],
   "source": [
    "# @TODO: Print out the summary statistics\n",
    "print(\"---------Summary Statistics----------\")\n",
    "print(f\"Number of Total Days: {count}\")\n",
    "print(f\"Number of Profitable Days: {profitable_count}\")\n",
    "print(f\"Number of Unprofitable Days: {unprofitable_count}\")\n",
    "print(f\"Percentage of Profitable Days: {profitable_percent}%\")\n",
    "print(f\"Percentage of Unprofitable Days: {unprofitable_percent}%\")\n",
    "print(\"-------------------------------------\")\n",
    "print(f\"Total Profits/Losses: {total}\")\n",
    "print(f\"Daily Average: {average}\")\n",
    "print(f\"Worst Loss: {minimum}\")\n",
    "print(f\"Best Gain: {maximum}\")"
   ]
  },
  {
   "cell_type": "code",
   "execution_count": null,
   "id": "eaf43d68-ab25-4a90-bfe0-ee1b76befc48",
   "metadata": {},
   "outputs": [],
   "source": []
  },
  {
   "cell_type": "code",
   "execution_count": null,
   "id": "3523c242-e173-4a5d-92e5-2e816696102d",
   "metadata": {},
   "outputs": [],
   "source": []
  }
 ],
 "metadata": {
  "kernelspec": {
   "display_name": "Python 3 (ipykernel)",
   "language": "python",
   "name": "python3"
  },
  "language_info": {
   "codemirror_mode": {
    "name": "ipython",
    "version": 3
   },
   "file_extension": ".py",
   "mimetype": "text/x-python",
   "name": "python",
   "nbconvert_exporter": "python",
   "pygments_lexer": "ipython3",
   "version": "3.9.12"
  }
 },
 "nbformat": 4,
 "nbformat_minor": 5
}
