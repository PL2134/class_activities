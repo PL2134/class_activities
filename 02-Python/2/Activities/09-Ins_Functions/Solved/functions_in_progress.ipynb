{
 "cells": [
  {
   "cell_type": "code",
   "execution_count": null,
   "id": "797e692a-abde-4010-b148-71c8535255b9",
   "metadata": {},
   "outputs": [],
   "source": [
    "# Define a main function that prints \"Greetings!\" to the console"
   ]
  },
  {
   "cell_type": "code",
   "execution_count": null,
   "id": "b71b4341-1338-4476-992a-7f9273b32263",
   "metadata": {},
   "outputs": [],
   "source": [
    "# Define a main function that accepts a string argument"
   ]
  },
  {
   "cell_type": "code",
   "execution_count": null,
   "id": "31775c4d-5101-43c2-a575-5f87ea28b7ab",
   "metadata": {},
   "outputs": [],
   "source": [
    "# Define a calculate_market_cap function that returns an integer"
   ]
  },
  {
   "cell_type": "code",
   "execution_count": null,
   "id": "8b7e2863-1f47-4235-bdc8-bd5d827f3083",
   "metadata": {},
   "outputs": [],
   "source": [
    "# Define a calculate_market_cap function, and then call it"
   ]
  },
  {
   "cell_type": "code",
   "execution_count": null,
   "id": "b0faba12-9681-40d2-a8cd-dfd12d32c093",
   "metadata": {},
   "outputs": [],
   "source": [
    "# Capture function output and print output value and data type"
   ]
  },
  {
   "cell_type": "code",
   "execution_count": null,
   "id": "f1e06e9d-571d-4e37-90b5-f79f6aea7788",
   "metadata": {},
   "outputs": [],
   "source": []
  }
 ],
 "metadata": {
  "kernelspec": {
   "display_name": "Python 3 (ipykernel)",
   "language": "python",
   "name": "python3"
  },
  "language_info": {
   "codemirror_mode": {
    "name": "ipython",
    "version": 3
   },
   "file_extension": ".py",
   "mimetype": "text/x-python",
   "name": "python",
   "nbconvert_exporter": "python",
   "pygments_lexer": "ipython3",
   "version": "3.9.12"
  }
 },
 "nbformat": 4,
 "nbformat_minor": 5
}
