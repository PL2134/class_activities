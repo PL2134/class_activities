{
 "cells": [
  {
   "cell_type": "code",
   "execution_count": 1,
   "id": "797e692a-abde-4010-b148-71c8535255b9",
   "metadata": {},
   "outputs": [],
   "source": [
    "# Define a main function that prints \"Greetings!\" to the console\n",
    "def main():\n",
    "    print(\"Greetings!\")"
   ]
  },
  {
   "cell_type": "code",
   "execution_count": 2,
   "id": "b71b4341-1338-4476-992a-7f9273b32263",
   "metadata": {},
   "outputs": [],
   "source": [
    "# Define a main function that accepts a string argument\n",
    "def main(stock_ticker):\n",
    "    print(stock_ticker + \" is booming right now!\")"
   ]
  },
  {
   "cell_type": "code",
   "execution_count": 3,
   "id": "31775c4d-5101-43c2-a575-5f87ea28b7ab",
   "metadata": {},
   "outputs": [],
   "source": [
    "# Define a calculate_market_cap function that returns an integer\n",
    "def calculate_market_cap(market_price, number_of_shares):\n",
    "    cap = market_price * number_of_shares\n",
    "    \n",
    "    return cap"
   ]
  },
  {
   "cell_type": "code",
   "execution_count": 4,
   "id": "8b7e2863-1f47-4235-bdc8-bd5d827f3083",
   "metadata": {},
   "outputs": [
    {
     "name": "stdout",
     "output_type": "stream",
     "text": [
      "SBUX Market Capitalization: 94588216000.0\n",
      "Data type of market_cap variable is: <class 'float'>\n"
     ]
    }
   ],
   "source": [
    "# Define a calculate_market_cap function, and then call it\n",
    "def calculate_market_cap(market_price, number_of_shares):\n",
    "    cap = market_price * number_of_shares\n",
    "    \n",
    "    return cap\n",
    "\n",
    "stock_ticker = \"SBUX\"\n",
    "market_price = 76.06\n",
    "number_of_shares = 1243600000\n",
    "\n",
    "market_cap = calculate_market_cap(market_price, number_of_shares)\n",
    "print(f\"{stock_ticker} Market Capitalization: {market_cap}\")\n",
    "print(f\"Data type of market_cap variable is: {type(market_cap)}\")"
   ]
  },
  {
   "cell_type": "code",
   "execution_count": 5,
   "id": "b0faba12-9681-40d2-a8cd-dfd12d32c093",
   "metadata": {},
   "outputs": [
    {
     "name": "stdout",
     "output_type": "stream",
     "text": [
      "Market Capitalization: 94588216000.0\n",
      "Data type of market_cap variable is: <class 'float'>\n"
     ]
    }
   ],
   "source": [
    "# Capture function output and print output value and data type\n",
    "def calculate_market_cap(market_price, number_of_shares):\n",
    "    cap = market_price * number_of_shares\n",
    "\n",
    "    return cap\n",
    "\n",
    "market_price = 76.06\n",
    "number_of_shares = 1243600000\n",
    "\n",
    "market_cap = calculate_market_cap(market_price, number_of_shares)\n",
    "print(f\"Market Capitalization: {market_cap}\")\n",
    "print(f\"Data type of market_cap variable is: {type(market_cap)}\")"
   ]
  },
  {
   "cell_type": "code",
   "execution_count": null,
   "id": "f1e06e9d-571d-4e37-90b5-f79f6aea7788",
   "metadata": {},
   "outputs": [],
   "source": []
  }
 ],
 "metadata": {
  "kernelspec": {
   "display_name": "Python 3 (ipykernel)",
   "language": "python",
   "name": "python3"
  },
  "language_info": {
   "codemirror_mode": {
    "name": "ipython",
    "version": 3
   },
   "file_extension": ".py",
   "mimetype": "text/x-python",
   "name": "python",
   "nbconvert_exporter": "python",
   "pygments_lexer": "ipython3",
   "version": "3.9.12"
  }
 },
 "nbformat": 4,
 "nbformat_minor": 5
}
