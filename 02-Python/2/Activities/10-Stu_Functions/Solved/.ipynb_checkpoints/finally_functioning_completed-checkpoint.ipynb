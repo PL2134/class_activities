{
 "cells": [
  {
   "cell_type": "code",
   "execution_count": null,
   "id": "e3bf6381-8b1a-4ed3-8d6f-647f7e88b532",
   "metadata": {},
   "outputs": [],
   "source": [
    "\"\"\"\n",
    "Determine the Compound Annual Growth Rate for an investment\n",
    "\"\"\""
   ]
  },
  {
   "cell_type": "code",
   "execution_count": 5,
   "id": "688ab2f4-8ef3-4de4-afdf-3694c71a4d6c",
   "metadata": {},
   "outputs": [],
   "source": [
    "# Declare a variable beginning_balance as a float\n",
    "beginning_balance = 29000.00"
   ]
  },
  {
   "cell_type": "code",
   "execution_count": 6,
   "id": "40ae4d14-7027-4622-b584-172b1960abc3",
   "metadata": {},
   "outputs": [],
   "source": [
    "# Declare a variable ending_balance as float\n",
    "ending_balance = 45000.00"
   ]
  },
  {
   "cell_type": "code",
   "execution_count": 7,
   "id": "cf944458-3647-40db-ad10-131a6af0e083",
   "metadata": {},
   "outputs": [],
   "source": [
    "# Declare a variable years as an float\n",
    "years = 1.0"
   ]
  },
  {
   "cell_type": "code",
   "execution_count": 27,
   "id": "3789ba8f-fae0-4ddd-b1b9-276eee6508ea",
   "metadata": {},
   "outputs": [],
   "source": [
    "# Define a function called calculate_compound_growth_rate with three arguments: beginning_balance, ending_balance, years. Function should output growth_rate.\n",
    "def calculate_compound_growth_rate(beginning_balance, ending_balance, years):\n",
    "    growth_rate = ((ending_balance / beginning_balance)**(1/years) - 1) * 100\n",
    "    return growth_rate"
   ]
  },
  {
   "cell_type": "code",
   "execution_count": 28,
   "id": "554c112a-e80f-4581-ab87-7b95cb1be0f6",
   "metadata": {},
   "outputs": [
    {
     "data": {
      "text/plain": [
       "4.106382978723411"
      ]
     },
     "execution_count": 28,
     "metadata": {},
     "output_type": "execute_result"
    }
   ],
   "source": [
    "# Call calculate_compound_growth_rate using beginning_balance, ending_balance, and years. Capture as year_one_growth.\n",
    "year_one_growth = calculate_compound_growth_rate(beginning_balance, ending_balance, years)\n",
    "year_one_growth"
   ]
  },
  {
   "cell_type": "code",
   "execution_count": 29,
   "id": "a69af9a6-ef84-4394-8585-831d0c143627",
   "metadata": {},
   "outputs": [],
   "source": [
    "# Update beginning_balance and ending balance for year two, and then execute calculate_compound_growth_rate\n",
    "beginning_balance = 45000.00\n",
    "ending_balance = 47000.00\n",
    "year_two_growth = calculate_compound_growth_rate(beginning_balance, ending_balance, years)"
   ]
  },
  {
   "cell_type": "code",
   "execution_count": 30,
   "id": "80807ea8-43a6-4527-a70e-3fa608520d8a",
   "metadata": {},
   "outputs": [],
   "source": [
    "# Update beginning_balance and ending balance for year three, and then execute calculate_compound_growth_rate\n",
    "beginning_balance = 47000.00\n",
    "ending_balance = 48930.00\n",
    "year_three_growth = calculate_compound_growth_rate(beginning_balance, ending_balance, years)"
   ]
  },
  {
   "cell_type": "code",
   "execution_count": 31,
   "id": "5da7df84-9712-4ba3-b04a-58234d753f8a",
   "metadata": {},
   "outputs": [],
   "source": [
    "# Use Python round() function to round year_one_growth, year_two_growth, and year_three_growth. Capture these as new variables.\n",
    "year_one_growth_rounded = round(year_one_growth, 2)\n",
    "year_two_growth_rounded = round(year_two_growth, 2)\n",
    "year_three_growth_rounded = round(year_three_growth, 2)"
   ]
  },
  {
   "cell_type": "code",
   "execution_count": 32,
   "id": "917f12f9-c065-4ced-b33a-8fa0441afdb4",
   "metadata": {},
   "outputs": [
    {
     "name": "stdout",
     "output_type": "stream",
     "text": [
      "Compound Annual Growth Rate for 2016: 4.11%\n",
      "Compound Annual Growth Rate for 2017: 4.44%\n",
      "Compound Annual Growth Rate for 2018: 4.11%\n"
     ]
    }
   ],
   "source": [
    "# Print year_one_growth, year_two_growth, year_three_growth as percents using string formatting\n",
    "print(f\"Compound Annual Growth Rate for 2016: {year_one_growth_rounded}%\")\n",
    "print(f\"Compound Annual Growth Rate for 2017: {year_two_growth_rounded}%\")\n",
    "print(f\"Compound Annual Growth Rate for 2018: {year_three_growth_rounded}%\")"
   ]
  },
  {
   "cell_type": "code",
   "execution_count": null,
   "id": "adcb46e9-f9fa-4b5d-a493-c24c197e8a0b",
   "metadata": {},
   "outputs": [],
   "source": [
    "# Challenge"
   ]
  },
  {
   "cell_type": "code",
   "execution_count": 35,
   "id": "e456b444-648d-4a8f-a066-f34975837e70",
   "metadata": {},
   "outputs": [],
   "source": [
    "# Create a global, empty list\n",
    "growth_rates = list()"
   ]
  },
  {
   "cell_type": "code",
   "execution_count": 36,
   "id": "8d7e445f-6e9f-41bb-a97a-c57381cd0990",
   "metadata": {},
   "outputs": [],
   "source": [
    "# Define a function called\n",
    "def calculate_compound_growth_rate_list(beginning_balance, ending_balance, years):\n",
    "    growth_rate = (ending_balance / beginning_balance)**(1 / years) - 1\n",
    "\n",
    "    # Populate growth_rates list using add() function\n",
    "    growth_rates.append(growth_rate)"
   ]
  },
  {
   "cell_type": "code",
   "execution_count": 37,
   "id": "c70b0236-b55a-4dd3-b714-552027419a16",
   "metadata": {},
   "outputs": [],
   "source": [
    "# Call calculate_compound_growth_rate_list and populate growth_rates with 2016 values (beginning_balance and ending_balance)\n",
    "beginning_balance = 29000.00\n",
    "ending_balance = 45000.00\n",
    "calculate_compound_growth_rate_list(beginning_balance, ending_balance, years)"
   ]
  },
  {
   "cell_type": "code",
   "execution_count": 38,
   "id": "2336a5f9-1ba5-4370-8b89-758b8777ea07",
   "metadata": {},
   "outputs": [],
   "source": [
    "# Call calculate_compound_growth_rate_list and populate growth_rates with 2017 values (beginning_balance and ending_balance)\n",
    "beginning_balance = 45000.00\n",
    "ending_balance = 47000.00\n",
    "calculate_compound_growth_rate_list(beginning_balance, ending_balance, years)"
   ]
  },
  {
   "cell_type": "code",
   "execution_count": 39,
   "id": "864b0731-1d02-49ff-ae3a-d33424a9e9d0",
   "metadata": {},
   "outputs": [],
   "source": [
    "# Call calculate_compound_growth_rate_list and populate growth_rates with 2018 values (beginning_balance and ending_balance)\n",
    "beginning_balance = 47000.00\n",
    "ending_balance = 48930.00\n",
    "calculate_compound_growth_rate_list(beginning_balance, ending_balance, years)"
   ]
  },
  {
   "cell_type": "code",
   "execution_count": 41,
   "id": "daa1a6e5-2d06-4213-bc5e-47ff14a83ad1",
   "metadata": {},
   "outputs": [
    {
     "name": "stdout",
     "output_type": "stream",
     "text": [
      "Growth rates:  [0.5517241379310345, 0.04444444444444451, 0.04106382978723411]\n"
     ]
    }
   ],
   "source": [
    "# Print growth_rates list\n",
    "print(\"Growth rates: \", growth_rates)"
   ]
  },
  {
   "cell_type": "code",
   "execution_count": null,
   "id": "ac3044a2-1a7b-49b0-b0b5-82015e5ff1dc",
   "metadata": {},
   "outputs": [],
   "source": []
  },
  {
   "cell_type": "code",
   "execution_count": null,
   "id": "c7e4d3bc-fb62-4889-9b35-f959e1c380fb",
   "metadata": {},
   "outputs": [],
   "source": []
  },
  {
   "cell_type": "code",
   "execution_count": null,
   "id": "b1e6a202-9684-4424-b444-45b7e4c2a52f",
   "metadata": {},
   "outputs": [],
   "source": []
  },
  {
   "cell_type": "code",
   "execution_count": null,
   "id": "319857b1-b568-4611-a834-60f7f0262e7b",
   "metadata": {},
   "outputs": [],
   "source": []
  },
  {
   "cell_type": "code",
   "execution_count": null,
   "id": "16645795-32da-4af5-bebc-9cd9fc8d0ac0",
   "metadata": {},
   "outputs": [],
   "source": []
  },
  {
   "cell_type": "code",
   "execution_count": null,
   "id": "551c919c-3a55-4cd4-a663-0cd80d74049d",
   "metadata": {},
   "outputs": [],
   "source": []
  }
 ],
 "metadata": {
  "kernelspec": {
   "display_name": "Python 3 (ipykernel)",
   "language": "python",
   "name": "python3"
  },
  "language_info": {
   "codemirror_mode": {
    "name": "ipython",
    "version": 3
   },
   "file_extension": ".py",
   "mimetype": "text/x-python",
   "name": "python",
   "nbconvert_exporter": "python",
   "pygments_lexer": "ipython3",
   "version": "3.9.12"
  }
 },
 "nbformat": 4,
 "nbformat_minor": 5
}
