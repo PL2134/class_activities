{
 "cells": [
  {
   "cell_type": "code",
   "execution_count": 1,
   "id": "79ea53d6-03f5-4553-a5a4-71f730a2e937",
   "metadata": {},
   "outputs": [
    {
     "data": {
      "text/plain": [
       "'\\nStudent Activity: Weekly Gains.\\n\\nThis script showcases how to use nested list/dict objects to\\ncalculate weekly gains of stock tickers.\\n'"
      ]
     },
     "execution_count": 1,
     "metadata": {},
     "output_type": "execute_result"
    }
   ],
   "source": [
    "# -*- coding: utf-8 -*-\n",
    "\"\"\"\n",
    "Student Activity: Weekly Gains.\n",
    "\n",
    "This script showcases how to use nested list/dict objects to\n",
    "calculate weekly gains of stock tickers.\n",
    "\"\"\""
   ]
  },
  {
   "cell_type": "code",
   "execution_count": 2,
   "id": "5b4ce93b-4ad1-4fde-bbfa-ea1c8cb22993",
   "metadata": {},
   "outputs": [],
   "source": [
    "# Dictionary of List of Lists\n",
    "# Key: Stock Ticker | Value: List of Records\n",
    "# Record: Date, Open, High, Low, Close\n",
    "historical_stock_data = {\n",
    "    \"AAPL\": [\n",
    "        [\"04-17-2019\", 199.54, 203.38, 198.61, 203.13],\n",
    "        [\"04-18-2019\", 199.46, 201.37, 198.56, 199.25],\n",
    "        [\"04-19-2019\", 198.58, 199.85, 198.01, 199.23],\n",
    "        [\"04-20-2019\", 199.20, 200.14, 196.21, 198.87],\n",
    "\n",
    "    ],\n",
    "    \"MU\": [\n",
    "        [\"04-17-2019\", 43.20, 43.53, 42.79, 43.40],\n",
    "        [\"04-18-2019\", 43.36, 44.05, 42.76, 43.15],\n",
    "        [\"04-19-2019\", 42.26, 42.93, 42.08, 42.76],\n",
    "        [\"04-20-2019\", 42.17, 42.23, 41.20, 41.82],\n",
    "\n",
    "    ],\n",
    "    \"AMD\": [\n",
    "        [\"04-17-2019\", 27.60, 27.88, 27.34, 27.68],\n",
    "        [\"04-18-2019\", 28.21, 28.27, 27.22, 27.49],\n",
    "        [\"04-19-2019\", 27.72, 28.18, 27.49, 27.93],\n",
    "        [\"04-20-2019\", 27.80, 27.84, 26.96, 27.33],\n",
    "\n",
    "    ],\n",
    "    \"TWTR\": [\n",
    "        [\"04-17-2019\", 34.67, 34.86, 34.32, 34.40],\n",
    "        [\"04-18-2019\", 34.73, 34.90, 34.20, 34.48],\n",
    "        [\"04-19-2019\", 34.84, 34.99, 34.23, 34.46],\n",
    "        [\"04-20-2019\", 34.38, 35.03, 34.34, 34.71],\n",
    "\n",
    "    ]\n",
    "}"
   ]
  },
  {
   "cell_type": "code",
   "execution_count": 3,
   "id": "8635825a-3677-4b90-9e47-bda34b9d5214",
   "metadata": {},
   "outputs": [],
   "source": [
    "# Dictionary of Dictionary\n",
    "# Key: Stock Ticker | Value: Dictionary\n",
    "new_records = {\n",
    "    \"AAPL\": {\n",
    "        \"date\": \"04-21-2019\",\n",
    "        \"open\": 200.85,\n",
    "        \"high\": 201.00,\n",
    "        \"low\": 198.44,\n",
    "        \"close\": 198.95\n",
    "    },\n",
    "    \"MU\": {\n",
    "        \"date\": \"04-21-2019\",\n",
    "        \"open\": 42.85,\n",
    "        \"high\": 43.20,\n",
    "        \"low\": 41.81,\n",
    "        \"close\": 42.01\n",
    "    },\n",
    "    \"AMD\": {\n",
    "        \"date\": \"04-21-2019\",\n",
    "        \"open\": 28.21,\n",
    "        \"high\": 28.38,\n",
    "        \"low\": 27.66,\n",
    "        \"close\": 27.85\n",
    "    },\n",
    "    \"TWTR\": {\n",
    "        \"date\": \"04-21-2019\",\n",
    "        \"open\": 34.67,\n",
    "        \"high\": 34.83,\n",
    "        \"low\": 34.11,\n",
    "        \"close\": 34.37\n",
    "    }\n",
    "}"
   ]
  },
  {
   "cell_type": "code",
   "execution_count": 4,
   "id": "4ea4255c-80d4-4ac4-a540-8c4f9ba50258",
   "metadata": {},
   "outputs": [],
   "source": [
    "# @TODO: Set each ticker's new record: date, open, high, low, close\n",
    "new_aapl_record = [\n",
    "    new_records[\"AAPL\"][\"date\"],\n",
    "    new_records[\"AAPL\"][\"open\"],\n",
    "    new_records[\"AAPL\"][\"high\"],\n",
    "    new_records[\"AAPL\"][\"low\"],\n",
    "    new_records[\"AAPL\"][\"close\"]\n",
    "]\n",
    "\n",
    "new_mu_record = [\n",
    "    new_records[\"MU\"][\"date\"],\n",
    "    new_records[\"MU\"][\"open\"],\n",
    "    new_records[\"MU\"][\"high\"],\n",
    "    new_records[\"MU\"][\"low\"],\n",
    "    new_records[\"MU\"][\"close\"]\n",
    "]\n",
    "\n",
    "new_amd_record = [\n",
    "    new_records[\"AMD\"][\"date\"],\n",
    "    new_records[\"AMD\"][\"open\"],\n",
    "    new_records[\"AMD\"][\"high\"],\n",
    "    new_records[\"AMD\"][\"low\"],\n",
    "    new_records[\"AMD\"][\"close\"]\n",
    "]\n",
    "\n",
    "new_twtr_record = [\n",
    "    new_records[\"TWTR\"][\"date\"],\n",
    "    new_records[\"TWTR\"][\"open\"],\n",
    "    new_records[\"TWTR\"][\"high\"],\n",
    "    new_records[\"TWTR\"][\"low\"],\n",
    "    new_records[\"TWTR\"][\"close\"]\n",
    "]"
   ]
  },
  {
   "cell_type": "code",
   "execution_count": 5,
   "id": "22ed1650-3d4b-4965-a5af-fbd4ee4ac505",
   "metadata": {},
   "outputs": [
    {
     "name": "stdout",
     "output_type": "stream",
     "text": [
      "{'AAPL': [['04-17-2019', 199.54, 203.38, 198.61, 203.13], ['04-18-2019', 199.46, 201.37, 198.56, 199.25], ['04-19-2019', 198.58, 199.85, 198.01, 199.23], ['04-20-2019', 199.2, 200.14, 196.21, 198.87], [['04-21-2019', 200.85, 201.0, 198.44, 198.95]]], 'MU': [['04-17-2019', 43.2, 43.53, 42.79, 43.4], ['04-18-2019', 43.36, 44.05, 42.76, 43.15], ['04-19-2019', 42.26, 42.93, 42.08, 42.76], ['04-20-2019', 42.17, 42.23, 41.2, 41.82], [['04-21-2019', 42.85, 43.2, 41.81, 42.01]]], 'AMD': [['04-17-2019', 27.6, 27.88, 27.34, 27.68], ['04-18-2019', 28.21, 28.27, 27.22, 27.49], ['04-19-2019', 27.72, 28.18, 27.49, 27.93], ['04-20-2019', 27.8, 27.84, 26.96, 27.33], [['04-21-2019', 28.21, 28.38, 27.66, 27.85]]], 'TWTR': [['04-17-2019', 34.67, 34.86, 34.32, 34.4], ['04-18-2019', 34.73, 34.9, 34.2, 34.48], ['04-19-2019', 34.84, 34.99, 34.23, 34.46], ['04-20-2019', 34.38, 35.03, 34.34, 34.71], [['04-21-2019', 34.67, 34.83, 34.11, 34.37]]]}\n"
     ]
    }
   ],
   "source": [
    "# @TODO: Choice 1: Add a new round of entries to the 'historical_stock_data' dictionary\n",
    "historical_stock_data[\"AAPL\"].append([new_aapl_record])\n",
    "historical_stock_data[\"MU\"].append([new_mu_record])\n",
    "historical_stock_data[\"AMD\"].append([new_amd_record])\n",
    "historical_stock_data[\"TWTR\"].append([new_twtr_record])\n",
    "print(historical_stock_data)"
   ]
  },
  {
   "cell_type": "code",
   "execution_count": 6,
   "id": "0180f81b-816f-4e02-937f-c53ff522a3e6",
   "metadata": {},
   "outputs": [],
   "source": [
    "# @TODO: Choice 2: Add a new round of entries via for loop to the 'historical_stock_data' dictionary\n",
    "for ticker, ticker_data in new_records.items():\n",
    "    \n",
    "    # Set the new record to be added in list format\n",
    "    record = [\n",
    "        ticker_data[\"date\"],\n",
    "        ticker_data[\"open\"],\n",
    "        ticker_data[\"high\"],\n",
    "        ticker_data[\"low\"],\n",
    "        ticker_data[\"close\"]\n",
    "    ]\n",
    "    \n",
    "    # Append the new record to the historical_stock_data dictionary\n",
    "    historical_stock_data[ticker].append(record)"
   ]
  },
  {
   "cell_type": "code",
   "execution_count": 7,
   "id": "58dee6c2-1b1c-4a7e-a73f-bbd1bb2f1a03",
   "metadata": {
    "tags": []
   },
   "outputs": [
    {
     "name": "stdout",
     "output_type": "stream",
     "text": [
      "{'AAPL': [['04-17-2019', 199.54, 203.38, 198.61, 203.13], ['04-18-2019', 199.46, 201.37, 198.56, 199.25], ['04-19-2019', 198.58, 199.85, 198.01, 199.23], ['04-20-2019', 199.2, 200.14, 196.21, 198.87], [['04-21-2019', 200.85, 201.0, 198.44, 198.95]], ['04-21-2019', 200.85, 201.0, 198.44, 198.95]], 'MU': [['04-17-2019', 43.2, 43.53, 42.79, 43.4], ['04-18-2019', 43.36, 44.05, 42.76, 43.15], ['04-19-2019', 42.26, 42.93, 42.08, 42.76], ['04-20-2019', 42.17, 42.23, 41.2, 41.82], [['04-21-2019', 42.85, 43.2, 41.81, 42.01]], ['04-21-2019', 42.85, 43.2, 41.81, 42.01]], 'AMD': [['04-17-2019', 27.6, 27.88, 27.34, 27.68], ['04-18-2019', 28.21, 28.27, 27.22, 27.49], ['04-19-2019', 27.72, 28.18, 27.49, 27.93], ['04-20-2019', 27.8, 27.84, 26.96, 27.33], [['04-21-2019', 28.21, 28.38, 27.66, 27.85]], ['04-21-2019', 28.21, 28.38, 27.66, 27.85]], 'TWTR': [['04-17-2019', 34.67, 34.86, 34.32, 34.4], ['04-18-2019', 34.73, 34.9, 34.2, 34.48], ['04-19-2019', 34.84, 34.99, 34.23, 34.46], ['04-20-2019', 34.38, 35.03, 34.34, 34.71], [['04-21-2019', 34.67, 34.83, 34.11, 34.37]], ['04-21-2019', 34.67, 34.83, 34.11, 34.37]]}\n"
     ]
    }
   ],
   "source": [
    "# @TODO: Print out the modified 'historical_stock_data' dictionary\n",
    "print(historical_stock_data)"
   ]
  },
  {
   "cell_type": "code",
   "execution_count": 8,
   "id": "fad287db-7ae3-4abf-8ac6-41f09411b3e4",
   "metadata": {},
   "outputs": [],
   "source": [
    "# @TODO: Initialize 'results' dictionary to hold weekly change of each ticker\n",
    "results = {}"
   ]
  },
  {
   "cell_type": "code",
   "execution_count": 16,
   "id": "35666a26-f4d4-4f0c-8478-b9e92f14f529",
   "metadata": {},
   "outputs": [
    {
     "data": {
      "text/plain": [
       "203.13"
      ]
     },
     "execution_count": 16,
     "metadata": {},
     "output_type": "execute_result"
    }
   ],
   "source": [
    "historical_stock_data[\"AAPL\"][0][-1]"
   ]
  },
  {
   "cell_type": "code",
   "execution_count": 17,
   "id": "d561eae0-ac44-43e1-a08d-ed521a537fc7",
   "metadata": {},
   "outputs": [
    {
     "data": {
      "text/plain": [
       "198.95"
      ]
     },
     "execution_count": 17,
     "metadata": {},
     "output_type": "execute_result"
    }
   ],
   "source": [
    "historical_stock_data[\"AAPL\"][-1][-1]"
   ]
  },
  {
   "cell_type": "code",
   "execution_count": 19,
   "id": "d8f6a641-4799-4572-816e-5dd221b32d39",
   "metadata": {},
   "outputs": [
    {
     "name": "stdout",
     "output_type": "stream",
     "text": [
      "2.1\n",
      "3.31\n",
      "-0.61\n",
      "0.09\n"
     ]
    }
   ],
   "source": [
    "# @TODO: Calculate the weekly change of each stock ticker\n",
    "for ticker, ticker_data in historical_stock_data.items():\n",
    "\n",
    "    # @TODO: Set closing prices of first and last records of each stock ticker\n",
    "    ending_weekly_close = ticker_data[0][-1]\n",
    "    beginning_weekly_close = ticker_data[-1][-1]\n",
    "\n",
    "    # @TODO: Calculate weekly change per stock ticker\n",
    "    ticker_weekly_change = round((ending_weekly_close - beginning_weekly_close) / beginning_weekly_close * 100, 2)\n",
    "    print(ticker_weekly_change)\n",
    "\n",
    "    # @TODO: Set the weekly change for every stock ticker in the 'results' dictionary\n",
    "    results[ticker] = ticker_weekly_change"
   ]
  },
  {
   "cell_type": "code",
   "execution_count": 20,
   "id": "ee6afd4e-aa95-4744-81f5-b16e8fc5c15a",
   "metadata": {},
   "outputs": [
    {
     "name": "stdout",
     "output_type": "stream",
     "text": [
      "{'AAPL': 2.1, 'MU': 3.31, 'AMD': -0.61, 'TWTR': 0.09}\n"
     ]
    }
   ],
   "source": [
    "# @TODO: Print out 'results' dictionary\n",
    "print(results)"
   ]
  },
  {
   "cell_type": "code",
   "execution_count": null,
   "id": "e206d6a3-9712-4bda-9b74-63aac1784d1e",
   "metadata": {},
   "outputs": [],
   "source": []
  }
 ],
 "metadata": {
  "kernelspec": {
   "display_name": "Python 3 (ipykernel)",
   "language": "python",
   "name": "python3"
  },
  "language_info": {
   "codemirror_mode": {
    "name": "ipython",
    "version": 3
   },
   "file_extension": ".py",
   "mimetype": "text/x-python",
   "name": "python",
   "nbconvert_exporter": "python",
   "pygments_lexer": "ipython3",
   "version": "3.9.12"
  }
 },
 "nbformat": 4,
 "nbformat_minor": 5
}
