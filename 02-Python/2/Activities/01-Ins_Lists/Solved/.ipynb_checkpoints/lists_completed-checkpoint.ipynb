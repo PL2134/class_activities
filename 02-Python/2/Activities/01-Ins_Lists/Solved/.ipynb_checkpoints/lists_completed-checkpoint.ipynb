{
 "cells": [
  {
   "cell_type": "code",
   "execution_count": 1,
   "id": "ad049626-a019-46a8-8ad6-f20105fda229",
   "metadata": {
    "tags": []
   },
   "outputs": [
    {
     "name": "stdout",
     "output_type": "stream",
     "text": [
      "Creating a list of Pokemon...\n",
      "['Pikachu', 'Charizard', 'Bulbasaur', 'Gyarados', 'Dragonite', 'Onyx']\n",
      "\n"
     ]
    }
   ],
   "source": [
    "# Create a list of Pokemon\n",
    "print(\"Creating a list of Pokemon...\")\n",
    "pokemon = [\"Pikachu\", \"Charizard\", \"Bulbasaur\", \"Gyarados\", \"Dragonite\", \"Onyx\"]\n",
    "print(pokemon)\n",
    "print()"
   ]
  },
  {
   "cell_type": "code",
   "execution_count": 2,
   "id": "d652a4e0-4f60-49bc-8ac8-3c55460c809b",
   "metadata": {},
   "outputs": [
    {
     "name": "stdout",
     "output_type": "stream",
     "text": [
      "Printing the third Pokemon...\n",
      "Bulbasaur\n",
      "\n"
     ]
    }
   ],
   "source": [
    "# Print element at index 2\n",
    "print(\"Printing the third Pokemon...\")\n",
    "print(pokemon[2])\n",
    "print()"
   ]
  },
  {
   "cell_type": "code",
   "execution_count": 3,
   "id": "3ffbcdb6-dbef-44dd-9320-a68b5b2ce38b",
   "metadata": {},
   "outputs": [
    {
     "name": "stdout",
     "output_type": "stream",
     "text": [
      "Printing 3rd Pokemon to the 5th Pokemon...\n",
      "['Bulbasaur', 'Gyarados', 'Dragonite']\n",
      "\n"
     ]
    }
   ],
   "source": [
    "# Print elements from index 2 to index 5\n",
    "print(\"Printing 3rd Pokemon to the 5th Pokemon...\")\n",
    "print(pokemon[2:5])\n",
    "print()"
   ]
  },
  {
   "cell_type": "code",
   "execution_count": 4,
   "id": "9069c943-1176-44f3-be64-5aefd28fa1be",
   "metadata": {},
   "outputs": [
    {
     "name": "stdout",
     "output_type": "stream",
     "text": [
      "Printing every Pokemon after the first three...\n",
      "['Gyarados', 'Dragonite', 'Onyx']\n",
      "\n"
     ]
    }
   ],
   "source": [
    "# Print elements from index 3 to the end of the list\n",
    "print(\"Printing every Pokemon after the first three...\")\n",
    "print(pokemon[3:])\n",
    "print()"
   ]
  },
  {
   "cell_type": "code",
   "execution_count": 5,
   "id": "a9710361-882d-4746-afa0-428c1a3355d2",
   "metadata": {},
   "outputs": [
    {
     "name": "stdout",
     "output_type": "stream",
     "text": [
      "Printing every Pokemon up to the first three...\n",
      "['Pikachu', 'Charizard', 'Bulbasaur']\n",
      "\n"
     ]
    }
   ],
   "source": [
    "# Print elements from beginning of list to index 3\n",
    "print(\"Printing every Pokemon up to the first three...\")\n",
    "print(pokemon[:3])\n",
    "print()"
   ]
  },
  {
   "cell_type": "code",
   "execution_count": 6,
   "id": "5c3382c7-073d-499d-bfd9-4787581b78f4",
   "metadata": {},
   "outputs": [
    {
     "name": "stdout",
     "output_type": "stream",
     "text": [
      "Printing every other Pokemon\n",
      "['Pikachu', 'Bulbasaur', 'Dragonite']\n",
      "\n"
     ]
    }
   ],
   "source": [
    "# Print every other element\n",
    "print(\"Printing every other Pokemon\")\n",
    "print(pokemon[::2])\n",
    "print()"
   ]
  },
  {
   "cell_type": "code",
   "execution_count": 7,
   "id": "ff809a1f-0808-47f5-98a3-8ddcb62a70ce",
   "metadata": {},
   "outputs": [
    {
     "name": "stdout",
     "output_type": "stream",
     "text": [
      "Printing the last Pokemon on the list...\n",
      "Onyx\n",
      "\n"
     ]
    }
   ],
   "source": [
    "# Print the last element of the list\n",
    "print(\"Printing the last Pokemon on the list...\")\n",
    "last_pokemon = pokemon[-1]\n",
    "print(last_pokemon)\n",
    "print()"
   ]
  },
  {
   "cell_type": "code",
   "execution_count": 8,
   "id": "dd667b00-ac0e-41d1-9713-36cd77e2750b",
   "metadata": {},
   "outputs": [
    {
     "name": "stdout",
     "output_type": "stream",
     "text": [
      "Determining the order of Pokemon 'Gyarados'...\n",
      "['Pikachu', 'Charizard', 'Bulbasaur', 'Gyarados', 'Dragonite', 'Onyx']\n",
      "3\n",
      "\n"
     ]
    }
   ],
   "source": [
    "# Find the index of the particular element name\n",
    "print(\"Determining the order of Pokemon 'Gyarados'...\")\n",
    "print(pokemon)\n",
    "print(pokemon.index(\"Gyarados\"))\n",
    "print()"
   ]
  },
  {
   "cell_type": "code",
   "execution_count": 11,
   "id": "a6bb37c9-3799-4ddd-98e3-fbac6263fa23",
   "metadata": {},
   "outputs": [
    {
     "name": "stdout",
     "output_type": "stream",
     "text": [
      "Changing Pokemon name 'Pikachu' to 'Raichu'...\n",
      "['Raichu', 'Charizard', 'Bulbasaur', 'Gyarados', 'Dragonite', 'Onyx']\n",
      "\n"
     ]
    }
   ],
   "source": [
    "# Change a specified element within the list at the given index\n",
    "print(\"Changing Pokemon name 'Pikachu' to 'Raichu'...\")\n",
    "pokemon[0] = \"Raichu\"\n",
    "print(pokemon)\n",
    "print()"
   ]
  },
  {
   "cell_type": "code",
   "execution_count": 12,
   "id": "9330b208-1f08-43bd-84a8-e0e349b7b1b5",
   "metadata": {},
   "outputs": [
    {
     "name": "stdout",
     "output_type": "stream",
     "text": [
      "Adding a new Pokemon to the end of the list...\n",
      "['Raichu', 'Charizard', 'Bulbasaur', 'Gyarados', 'Dragonite', 'Onyx', 'Magikarp']\n",
      "\n"
     ]
    }
   ],
   "source": [
    "# Add an element to the end of the list\n",
    "print(\"Adding a new Pokemon to the end of the list...\")\n",
    "pokemon.append(\"Magikarp\")\n",
    "print(pokemon)\n",
    "print()"
   ]
  },
  {
   "cell_type": "code",
   "execution_count": 17,
   "id": "6ced9fd4-7294-4483-b255-9f6caa566a95",
   "metadata": {},
   "outputs": [
    {
     "name": "stdout",
     "output_type": "stream",
     "text": [
      "Removing 'Magikarp'...\n",
      "['Raichu', 'Charizard', 'Bulbasaur', 'Gyarados', 'Dragonite', 'Onyx']\n",
      "\n"
     ]
    }
   ],
   "source": [
    "# Remove an element from the list based on the given element name\n",
    "print(\"Removing 'Magikarp'...\")\n",
    "pokemon.remove(\"Magikarp\")\n",
    "print(pokemon)\n",
    "print()"
   ]
  },
  {
   "cell_type": "code",
   "execution_count": 18,
   "id": "2c450932-23dc-4175-bc8d-85daa71f74c2",
   "metadata": {},
   "outputs": [
    {
     "name": "stdout",
     "output_type": "stream",
     "text": [
      "Removing 'Bulbasaur' based off of its index\n",
      "['Raichu', 'Charizard', 'Gyarados', 'Dragonite', 'Onyx']\n",
      "\n"
     ]
    }
   ],
   "source": [
    "# Remove an element from the list based on the given index\n",
    "print(\"Removing 'Bulbasaur' based off of its index\")\n",
    "bulbasaur_index = pokemon.index(\"Bulbasaur\")\n",
    "pokemon.pop(bulbasaur_index)\n",
    "print(pokemon)\n",
    "print()"
   ]
  },
  {
   "cell_type": "code",
   "execution_count": 19,
   "id": "70b52204-2db1-4a90-8f46-57e698311e9e",
   "metadata": {},
   "outputs": [
    {
     "name": "stdout",
     "output_type": "stream",
     "text": [
      "Calculating the number of Pokemon...\n",
      "5\n",
      "\n"
     ]
    }
   ],
   "source": [
    "# Calculate the number of elements within the list\n",
    "print(\"Calculating the number of Pokemon...\")\n",
    "print(len(pokemon))\n",
    "print()"
   ]
  },
  {
   "cell_type": "code",
   "execution_count": null,
   "id": "f2d58413-52bc-4094-b74b-8f9f10e6ecfb",
   "metadata": {},
   "outputs": [],
   "source": []
  },
  {
   "cell_type": "code",
   "execution_count": 13,
   "id": "a81d9b45-e7b2-4cb3-80db-4a0b6f9446b9",
   "metadata": {},
   "outputs": [
    {
     "name": "stdout",
     "output_type": "stream",
     "text": [
      "3\n"
     ]
    }
   ],
   "source": [
    "#syntax.index()\n",
    "fruits = [4, 55, 64, 32, 16, 32]\n",
    "\n",
    "x = fruits.index(32)\n",
    "print(x)"
   ]
  },
  {
   "cell_type": "code",
   "execution_count": 16,
   "id": "e45e3995-4a4f-490d-b339-eba46fd321e9",
   "metadata": {},
   "outputs": [
    {
     "name": "stdout",
     "output_type": "stream",
     "text": [
      "['apple', 'banana', 'cherry', ['Ford', 'BMW', 'Volvo']]\n"
     ]
    }
   ],
   "source": [
    "#syntax.append()\n",
    "a = [\"apple\", \"banana\", \"cherry\"]\n",
    "b = [\"Ford\", \"BMW\", \"Volvo\"]\n",
    "a.append(b)\n",
    "print(a)"
   ]
  },
  {
   "cell_type": "code",
   "execution_count": 20,
   "id": "49bb3edd-d84c-4f1c-b8bd-4cde84aa1a01",
   "metadata": {},
   "outputs": [
    {
     "name": "stdout",
     "output_type": "stream",
     "text": [
      "Removed Element: 5\n",
      "Updated List: [2, 3, 7]\n"
     ]
    }
   ],
   "source": [
    "#syntax.pop()\n",
    "# create a list of prime numbers\n",
    "prime_numbers = [2, 3, 5, 7]\n",
    "\n",
    "# remove the element at index 2\n",
    "removed_element = prime_numbers.pop(2)\n",
    "\n",
    "print('Removed Element:', removed_element)\n",
    "print('Updated List:', prime_numbers)"
   ]
  },
  {
   "cell_type": "code",
   "execution_count": null,
   "id": "d6467285-e843-44f3-af1d-a3f494760a93",
   "metadata": {},
   "outputs": [],
   "source": []
  }
 ],
 "metadata": {
  "kernelspec": {
   "display_name": "Python 3 (ipykernel)",
   "language": "python",
   "name": "python3"
  },
  "language_info": {
   "codemirror_mode": {
    "name": "ipython",
    "version": 3
   },
   "file_extension": ".py",
   "mimetype": "text/x-python",
   "name": "python",
   "nbconvert_exporter": "python",
   "pygments_lexer": "ipython3",
   "version": "3.9.12"
  }
 },
 "nbformat": 4,
 "nbformat_minor": 5
}
