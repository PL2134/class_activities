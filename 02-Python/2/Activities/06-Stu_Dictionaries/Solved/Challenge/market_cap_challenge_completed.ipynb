{
 "cells": [
  {
   "cell_type": "code",
   "execution_count": null,
   "id": "bc4ba586-fb5d-47d1-961c-a08ea07f01ce",
   "metadata": {},
   "outputs": [],
   "source": [
    "# -*- coding: utf-8 -*-\n",
    "\"\"\"\n",
    "Student Activity: Market Capitalization.\n",
    "\n",
    "This script showcases the use of Python Dicts to determine the\n",
    "bank names associated with the corresponding market cap ranges.\n",
    "\"\"\"\n",
    "\n",
    "# Banks and Market Caps\n",
    "#-----------------------\n",
    "# National Bank of Canada: 327\n",
    "# Toronto-Dominion Bank: 302\n",
    "# Royal Bank of Canada: 173\n",
    "# Wells Fargo: 273\n",
    "# Goldman Sachs: 87\n",
    "# Morgan Stanley: 72\n",
    "# Canadian Imperial Bank of Commerce: 83\n",
    "# TD Bank: 108\n",
    "# Bank of Montreal: 67\n",
    "# Capital One: 47\n",
    "# FNB Corporation: 4\n",
    "# Laurentian Bank of Canada: 3\n",
    "# Ally Financial: 12\n",
    "# Montreal Trust Company: 145\n",
    "# Canadian Western Bank: .97"
   ]
  },
  {
   "cell_type": "code",
   "execution_count": 1,
   "id": "f514a4ba-e8a8-4df1-8787-a085f3c053f1",
   "metadata": {},
   "outputs": [],
   "source": [
    "# @TODO: Initialize a dictionary of banks and market caps (in billions)\n",
    "banks = {\n",
    "    \"National Bank of Canada\": 327,\n",
    "    \"Toronto-Dominion Bank\": 302,\n",
    "    \"Royal Bank of Canada\": 173,\n",
    "    \"Wells Fargo\": 273,\n",
    "    \"Goldman Sachs\": 87,\n",
    "    \"Morgan Stanley\": 72,\n",
    "    \"Canadian Imperial Bank of Commerce\": 83,\n",
    "    \"TD Bank\": 108,\n",
    "    \"Bank of Montreal\": 67,\n",
    "    \"Capital One\": 47,\n",
    "    \"FNB Corporation\": 4,\n",
    "    \"Laurentian Bank of Canada\": 3,\n",
    "    \"Ally Financial\": 12,\n",
    "    \"Montreal Trust Company\": 145,\n",
    "    \"Canadian Western Bank\": .97\n",
    "}"
   ]
  },
  {
   "cell_type": "code",
   "execution_count": 2,
   "id": "27d0e1d2-5ffc-49bf-933e-3c4456336712",
   "metadata": {},
   "outputs": [],
   "source": [
    "# @TODO: Change the market cap for 'Royal Bank of Canada'\n",
    "banks[\"Royal Bank of Canada\"] = 170"
   ]
  },
  {
   "cell_type": "code",
   "execution_count": 3,
   "id": "52c1d7e9-75d5-43d8-a3b5-fc01a07b51e6",
   "metadata": {},
   "outputs": [],
   "source": [
    "# @TODO: Add a new bank and market cap pair\n",
    "banks[\"Scotiabank\"] = 33"
   ]
  },
  {
   "cell_type": "code",
   "execution_count": 4,
   "id": "ad8bdf52-0494-49ab-89fc-464ed670dc04",
   "metadata": {},
   "outputs": [],
   "source": [
    "# @TODO: Remove a bank from the dictionary\n",
    "del banks[\"Montreal Trust Company\"]"
   ]
  },
  {
   "cell_type": "code",
   "execution_count": 5,
   "id": "01cca495-2ee5-4df2-9af4-b31e12039806",
   "metadata": {},
   "outputs": [],
   "source": [
    "# @TODO: Initialize metric variables\n",
    "total_market_cap = 0\n",
    "bank_count = 0\n",
    "average = 0"
   ]
  },
  {
   "cell_type": "code",
   "execution_count": 6,
   "id": "31209934-c7b1-4079-8c40-9754d5f17da0",
   "metadata": {},
   "outputs": [],
   "source": [
    "# @TODO: Initialize minimum key-value pair\n",
    "minimum_key = \"\"\n",
    "minimum_value = 0"
   ]
  },
  {
   "cell_type": "code",
   "execution_count": 7,
   "id": "d050bd9a-a01d-4e46-b4d0-781fcbd46b3c",
   "metadata": {},
   "outputs": [],
   "source": [
    "# @TODO: Initialize maximum key-value pair\n",
    "maximum_key = \"\"\n",
    "maximum_value = 0"
   ]
  },
  {
   "cell_type": "code",
   "execution_count": 9,
   "id": "db5537d7-521c-4b25-b8b2-ac36709a4c75",
   "metadata": {},
   "outputs": [],
   "source": [
    "# Mega Cap: Firms with a market capitalization over $300 billion.\n",
    "# Large Cap: Firms with a market capitalization over 10 billion. ...\n",
    "# Mid Cap: A market capitalization between $2 and $10 billion.\n",
    "# Small Cap: A market capitalization between $300 million and $2 billion."
   ]
  },
  {
   "cell_type": "code",
   "execution_count": 10,
   "id": "40d48b08-57e8-4d54-a652-68cebc145638",
   "metadata": {},
   "outputs": [],
   "source": [
    "# @TODO: Initialize market cap lists\n",
    "mega_caps = []\n",
    "large_caps = []\n",
    "mid_caps = []\n",
    "small_caps = []"
   ]
  },
  {
   "cell_type": "code",
   "execution_count": 19,
   "id": "4f2daa20-7734-4b09-9180-09d1a371a4be",
   "metadata": {},
   "outputs": [
    {
     "name": "stdout",
     "output_type": "stream",
     "text": [
      "\n",
      "Name: National Bank of Canada | Market Cap: 327\n",
      "Name: Toronto-Dominion Bank | Market Cap: 302\n",
      "Name: Royal Bank of Canada | Market Cap: 170\n",
      "Name: Wells Fargo | Market Cap: 273\n",
      "Name: Goldman Sachs | Market Cap: 87\n",
      "Name: Morgan Stanley | Market Cap: 72\n",
      "Name: Canadian Imperial Bank of Commerce | Market Cap: 83\n",
      "Name: TD Bank | Market Cap: 108\n",
      "Name: Bank of Montreal | Market Cap: 67\n",
      "Name: Capital One | Market Cap: 47\n",
      "Name: FNB Corporation | Market Cap: 4\n",
      "Name: Laurentian Bank of Canada | Market Cap: 3\n",
      "Name: Ally Financial | Market Cap: 12\n",
      "Name: Canadian Western Bank | Market Cap: 0.97\n",
      "Name: Scotiabank | Market Cap: 33\n",
      "\n"
     ]
    }
   ],
   "source": [
    "# @TODO: Iterate over key-value pairs of the dictionary\n",
    "print()\n",
    "for bank_name, market_cap in banks.items():\n",
    "    print(f\"Name: {bank_name} | Market Cap: {market_cap}\")\n",
    "\n",
    "    # @TODO: Calculate sum of market caps and number of banks in the dictionary\n",
    "    total_market_cap += int(market_cap)\n",
    "    bank_count += 1\n",
    "    \n",
    "    # @TODO: Logic to determine min value and associated key\n",
    "    if market_cap == 0:\n",
    "        minimum_value = market_cap\n",
    "        minimum_key = bank_name\n",
    "    elif market_cap < minimum_value:\n",
    "        minimum_value = market_cap\n",
    "        minimum_key = bank_name\n",
    "\n",
    "    # @TODO: Logic to determine max value and associated key\n",
    "    if market_cap > maximum_value:\n",
    "        maximum_value = market_cap\n",
    "        maximum_key = bank_name\n",
    "\n",
    "    # @TODO: Group banks by categories of market caps\n",
    "    if market_cap >= 300:\n",
    "        mega_caps.append(bank_name)\n",
    "    elif market_cap >= 10 and market_cap < 300:\n",
    "        large_caps.append(bank_name)\n",
    "    elif market_cap >=2 and market_cap <10:\n",
    "        mid_caps.append(bank_name)\n",
    "    elif market_cap < 2 and market_cap >= 0.3:\n",
    "        small_caps.append(bank_name)\n",
    "print()"
   ]
  },
  {
   "cell_type": "code",
   "execution_count": 16,
   "id": "88a3af27-998f-4bc4-9823-db0490cfad7e",
   "metadata": {},
   "outputs": [],
   "source": [
    "# @TODO: Calculate average market cap of banks in the dictionary\n",
    "average = round(total_market_cap / bank_count, 2)"
   ]
  },
  {
   "cell_type": "code",
   "execution_count": 20,
   "id": "88ccfcd6-4445-4dbc-8def-1a3c305e1bce",
   "metadata": {},
   "outputs": [
    {
     "name": "stdout",
     "output_type": "stream",
     "text": [
      "Total Market Capitalization: 3503\n",
      "Total Number of Banks: 31\n",
      "Average Market Capitalization: 105.87\n",
      "Largest Bank: National Bank of Canada\n",
      "Smallest Bank: \n",
      "------------------------------------------------\n",
      "Mega Cap Banks: ['National Bank of Canada', 'Toronto-Dominion Bank', 'National Bank of Canada', 'Toronto-Dominion Bank']\n",
      "Large Cap Banks: ['Royal Bank of Canada', 'Wells Fargo', 'Goldman Sachs', 'Morgan Stanley', 'Canadian Imperial Bank of Commerce', 'TD Bank', 'Bank of Montreal', 'Capital One', 'Ally Financial', 'Scotiabank', 'Royal Bank of Canada', 'Wells Fargo', 'Goldman Sachs', 'Morgan Stanley', 'Canadian Imperial Bank of Commerce', 'TD Bank', 'Bank of Montreal', 'Capital One', 'Ally Financial', 'Scotiabank']\n",
      "Mid Cap Banks: ['FNB Corporation', 'Laurentian Bank of Canada', 'FNB Corporation', 'Laurentian Bank of Canada']\n",
      "Small Cap Banks: ['Canadian Western Bank', 'Canadian Western Bank']\n",
      "\n"
     ]
    }
   ],
   "source": [
    "# @TODO: Print the metrics\n",
    "print(f\"Total Market Capitalization: {total_market_cap}\")\n",
    "print(f\"Total Number of Banks: {bank_count}\")\n",
    "print(f\"Average Market Capitalization: {average}\")\n",
    "print(f\"Largest Bank: {maximum_key}\")\n",
    "print(f\"Smallest Bank: {minimum_key}\")\n",
    "print(\"------------------------------------------------\")\n",
    "print(f\"Mega Cap Banks: {mega_caps}\")\n",
    "print(f\"Large Cap Banks: {large_caps}\")\n",
    "print(f\"Mid Cap Banks: {mid_caps}\")\n",
    "print(f\"Small Cap Banks: {small_caps}\")\n",
    "print()"
   ]
  },
  {
   "cell_type": "code",
   "execution_count": null,
   "id": "77070f0a-3551-435a-bf99-1be8845ed099",
   "metadata": {},
   "outputs": [],
   "source": []
  },
  {
   "cell_type": "code",
   "execution_count": null,
   "id": "a96f7d33-1b4c-4efc-b877-554ec7af85e2",
   "metadata": {},
   "outputs": [],
   "source": []
  },
  {
   "cell_type": "code",
   "execution_count": null,
   "id": "798a327a-2f01-4bce-99d6-d30d5c39525e",
   "metadata": {},
   "outputs": [],
   "source": []
  },
  {
   "cell_type": "code",
   "execution_count": null,
   "id": "3702a3df-e382-47ad-880c-6ea0e2d94847",
   "metadata": {},
   "outputs": [],
   "source": []
  },
  {
   "cell_type": "code",
   "execution_count": null,
   "id": "c2114f8d-457e-4fc9-8ac2-dc5810d1ef86",
   "metadata": {},
   "outputs": [],
   "source": []
  },
  {
   "cell_type": "code",
   "execution_count": null,
   "id": "0d7a502f-2488-4cf3-8897-293af10e4410",
   "metadata": {},
   "outputs": [],
   "source": []
  },
  {
   "cell_type": "code",
   "execution_count": null,
   "id": "cbf42bcb-e847-4f27-94e7-021f7053e301",
   "metadata": {},
   "outputs": [],
   "source": []
  },
  {
   "cell_type": "code",
   "execution_count": null,
   "id": "568ee77b-f9fe-4684-a4a6-e38c2ac6c438",
   "metadata": {},
   "outputs": [],
   "source": []
  }
 ],
 "metadata": {
  "kernelspec": {
   "display_name": "Python 3 (ipykernel)",
   "language": "python",
   "name": "python3"
  },
  "language_info": {
   "codemirror_mode": {
    "name": "ipython",
    "version": 3
   },
   "file_extension": ".py",
   "mimetype": "text/x-python",
   "name": "python",
   "nbconvert_exporter": "python",
   "pygments_lexer": "ipython3",
   "version": "3.9.12"
  }
 },
 "nbformat": 4,
 "nbformat_minor": 5
}
