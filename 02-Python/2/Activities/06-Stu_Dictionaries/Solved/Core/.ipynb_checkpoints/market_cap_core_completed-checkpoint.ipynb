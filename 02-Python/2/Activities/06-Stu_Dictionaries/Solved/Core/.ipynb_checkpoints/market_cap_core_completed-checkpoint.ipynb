{
 "cells": [
  {
   "cell_type": "code",
   "execution_count": null,
   "id": "190ff76f-8b26-4fd3-bdcd-91742842db67",
   "metadata": {},
   "outputs": [],
   "source": [
    "# -*- coding: utf-8 -*-\n",
    "\"\"\"\n",
    "Student Activity: Market Capitalization.\n",
    "\n",
    "This script showcases the use of Python Dicts to determine the\n",
    "bank names associated with the corresponding market cap ranges.\n",
    "\"\"\"\n",
    "\n",
    "# Banks and Market Caps\n",
    "#-----------------------\n",
    "# National Bank of Canada: 327\n",
    "# Toronto-Dominion Bank: 302\n",
    "# Royal Bank of Canada: 173\n",
    "# Wells Fargo: 273\n",
    "# Goldman Sachs: 87\n",
    "# Morgan Stanley: 72\n",
    "# Canadian Imperial Bank of Commerce: 83\n",
    "# TD Bank: 108\n",
    "# Bank of Montreal: 67\n",
    "# Capital One: 47\n",
    "# FNB Corporation: 4\n",
    "# Laurentian Bank of Canada: 3\n",
    "# Ally Financial: 12\n",
    "# Montreal Trust Company: 145\n",
    "# Canadian Western Bank: .97"
   ]
  },
  {
   "cell_type": "code",
   "execution_count": 1,
   "id": "8c3a058c-c00e-4d76-8d5e-56dcea57bcf5",
   "metadata": {},
   "outputs": [],
   "source": [
    "# @TODO: Initialize a dictionary of banks and market caps (in billions)\n",
    "banks = {\n",
    "    \"National Bank of Canada\": 327,\n",
    "    \"Toronto-Dominion Bank\": 302,\n",
    "    \"Royal Bank of Canada\": 173,\n",
    "    \"Wells Fargo\": 273,\n",
    "    \"Goldman Sachs\": 87,\n",
    "    \"Morgan Stanley\": 72,\n",
    "    \"Canadian Imperial Bank of Commerce\": 83,\n",
    "    \"TD Bank\": 108,\n",
    "    \"Bank of Montreal\": 67,\n",
    "    \"Capital One\": 47,\n",
    "    \"FNB Corporation\": 4,\n",
    "    \"Laurentian Bank of Canada\": 3,\n",
    "    \"Ally Financial\": 12,\n",
    "    \"Montreal Trust Company\": 145,\n",
    "    \"Canadian Western Bank\": .97\n",
    "}"
   ]
  },
  {
   "cell_type": "code",
   "execution_count": 2,
   "id": "230977d3-26bb-4350-b0dc-40a7e2ecd31e",
   "metadata": {},
   "outputs": [],
   "source": [
    "# @TODO: Change the market cap for 'Royal Bank of Canada'\n",
    "banks[\"Royal Bank of Canada\"] = 170"
   ]
  },
  {
   "cell_type": "code",
   "execution_count": 3,
   "id": "5fb3f9aa-095c-470e-8d70-c42095a3f5ca",
   "metadata": {},
   "outputs": [],
   "source": [
    "# @TODO: Add a new bank and market cap pair\n",
    "banks[\"Scotiabank\"] = 33"
   ]
  },
  {
   "cell_type": "code",
   "execution_count": 4,
   "id": "0d78a707-4473-4eb9-8afb-3793e08de365",
   "metadata": {},
   "outputs": [],
   "source": [
    "# @TODO: Remove a bank from the dictionary\n",
    "del banks[\"Montreal Trust Company\"]"
   ]
  },
  {
   "cell_type": "code",
   "execution_count": 5,
   "id": "0f8abc7c-abb1-4f74-b7f6-5ce6138c4d7e",
   "metadata": {},
   "outputs": [
    {
     "name": "stdout",
     "output_type": "stream",
     "text": [
      "{'National Bank of Canada': 327, 'Toronto-Dominion Bank': 302, 'Royal Bank of Canada': 170, 'Wells Fargo': 273, 'Goldman Sachs': 87, 'Morgan Stanley': 72, 'Canadian Imperial Bank of Commerce': 83, 'TD Bank': 108, 'Bank of Montreal': 67, 'Capital One': 47, 'FNB Corporation': 4, 'Laurentian Bank of Canada': 3, 'Ally Financial': 12, 'Canadian Western Bank': 0.97, 'Scotiabank': 33}\n"
     ]
    }
   ],
   "source": [
    "# @TODO: Print the modified dictionary\n",
    "print(banks)"
   ]
  },
  {
   "cell_type": "code",
   "execution_count": null,
   "id": "f638bbd0-5aba-4121-b50d-ec2b3ae0c984",
   "metadata": {},
   "outputs": [],
   "source": []
  },
  {
   "cell_type": "code",
   "execution_count": null,
   "id": "6cb0e1b2-c2e8-4a9a-91cd-55deae61da63",
   "metadata": {},
   "outputs": [],
   "source": []
  }
 ],
 "metadata": {
  "kernelspec": {
   "display_name": "Python 3 (ipykernel)",
   "language": "python",
   "name": "python3"
  },
  "language_info": {
   "codemirror_mode": {
    "name": "ipython",
    "version": 3
   },
   "file_extension": ".py",
   "mimetype": "text/x-python",
   "name": "python",
   "nbconvert_exporter": "python",
   "pygments_lexer": "ipython3",
   "version": "3.9.12"
  }
 },
 "nbformat": 4,
 "nbformat_minor": 5
}
