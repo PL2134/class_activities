{
 "cells": [
  {
   "cell_type": "code",
   "execution_count": null,
   "id": "bcbf7962-5f02-4a3e-995f-723e54f9fbb6",
   "metadata": {},
   "outputs": [],
   "source": [
    "# -*- coding: utf-8 -*-\n",
    "\"\"\"\n",
    "Instructor Demo: Dicts.\n",
    "This script showcases basic operations of Python Dicts.\n",
    "\"\"\""
   ]
  },
  {
   "cell_type": "code",
   "execution_count": 3,
   "id": "1b1a4451-a739-4510-8eff-e96617eabe32",
   "metadata": {},
   "outputs": [],
   "source": [
    "# Initialize a dictionary containing top traders for each month in 2019\n",
    "top_traders_2019 = {\n",
    "    \"january\" : \"Karen\",\n",
    "    \"february\" : \"Harold\",\n",
    "    \"march\" : \"Sam\"\n",
    "}"
   ]
  },
  {
   "cell_type": "code",
   "execution_count": 4,
   "id": "2fa89be8-250a-4659-9ff8-a6a8a5d4115a",
   "metadata": {},
   "outputs": [
    {
     "name": "stdout",
     "output_type": "stream",
     "text": [
      "\n",
      "Dictionary: {'january': 'Karen', 'february': 'Harold', 'march': 'Sam'}\n",
      "\n"
     ]
    }
   ],
   "source": [
    "print()\n",
    "print(f\"Dictionary: {top_traders_2019}\")\n",
    "print()"
   ]
  },
  {
   "cell_type": "code",
   "execution_count": 5,
   "id": "4b4492ac-adc7-45f7-b0ec-3c01a83e26da",
   "metadata": {},
   "outputs": [],
   "source": [
    "# Initialize a dictionary\n",
    "trading_pnl = {\n",
    "    \"title\": \"Trading Log\",\n",
    "    \"03-18-2019\": -224,\n",
    "    \"03-19-2019\": 352,\n",
    "    \"03-20-2019\": 252,\n",
    "    \"03-21-2019\": 354,\n",
    "    \"03-22-2019\": -544,\n",
    "    \"03-23-2019\": -650,\n",
    "    \"03-24-2019\": 56,\n",
    "    \"03-25-2019\": 123,\n",
    "    \"03-26-2019\": -43,\n",
    "    \"03-27-2019\": 254,\n",
    "    \"03-28-2019\": 325,\n",
    "    \"03-29-2019\": -123,\n",
    "    \"03-30-2019\": 47,\n",
    "    \"03-31-2019\": 321,\n",
    "    \"04-01-2019\": 123,\n",
    "    \"04-02-2019\": 133,\n",
    "    \"04-03-2019\": -151,\n",
    "    \"04-04-2019\": 613,\n",
    "    \"04-05-2019\": 232,\n",
    "    \"04-06-2019\": -311\n",
    "}"
   ]
  },
  {
   "cell_type": "code",
   "execution_count": 6,
   "id": "ce75e5b5-09be-458a-b130-d319d4682351",
   "metadata": {},
   "outputs": [
    {
     "name": "stdout",
     "output_type": "stream",
     "text": [
      "\n",
      "Dictionary: {'title': 'Trading Log', '03-18-2019': -224, '03-19-2019': 352, '03-20-2019': 252, '03-21-2019': 354, '03-22-2019': -544, '03-23-2019': -650, '03-24-2019': 56, '03-25-2019': 123, '03-26-2019': -43, '03-27-2019': 254, '03-28-2019': 325, '03-29-2019': -123, '03-30-2019': 47, '03-31-2019': 321, '04-01-2019': 123, '04-02-2019': 133, '04-03-2019': -151, '04-04-2019': 613, '04-05-2019': 232, '04-06-2019': -311}\n",
      "\n"
     ]
    }
   ],
   "source": [
    "# Print out dictionary, initial print() to serve as spacing between command line input\n",
    "print()\n",
    "print(f\"Dictionary: {trading_pnl}\")\n",
    "print()"
   ]
  },
  {
   "cell_type": "code",
   "execution_count": 7,
   "id": "e5c8aa90-a52b-469c-be2d-08e800ec4779",
   "metadata": {},
   "outputs": [
    {
     "name": "stdout",
     "output_type": "stream",
     "text": [
      "03-31-2019: 321\n",
      "\n"
     ]
    }
   ],
   "source": [
    "# Print out specific value of a key\n",
    "print(f\"03-31-2019: {trading_pnl['03-31-2019']}\")\n",
    "print()"
   ]
  },
  {
   "cell_type": "code",
   "execution_count": 8,
   "id": "253c9f44-6eb5-4d72-8e11-ec7a77c69757",
   "metadata": {},
   "outputs": [
    {
     "name": "stdout",
     "output_type": "stream",
     "text": [
      "{'title': 'Trading Log', '03-18-2019': -224, '03-19-2019': 352, '03-20-2019': 252, '03-21-2019': 354, '03-22-2019': -544, '03-23-2019': -650, '03-24-2019': 56, '03-25-2019': 123, '03-26-2019': -43, '03-27-2019': 254, '03-28-2019': 325, '03-29-2019': -123, '03-30-2019': 47, '03-31-2019': 321, '04-01-2019': 123, '04-02-2019': 133, '04-03-2019': -151, '04-04-2019': 613, '04-05-2019': 232, '04-06-2019': -311, '04-07-2019': 413}\n",
      "\n"
     ]
    }
   ],
   "source": [
    "# Add a new key-value pair\n",
    "trading_pnl[\"04-07-2019\"] = 413\n",
    "print(trading_pnl)\n",
    "print()"
   ]
  },
  {
   "cell_type": "code",
   "execution_count": 9,
   "id": "6b93c182-0ae3-498d-8c29-6a1de94a4b75",
   "metadata": {},
   "outputs": [
    {
     "name": "stdout",
     "output_type": "stream",
     "text": [
      "{'title': 'Trading Log', '03-18-2019': -224, '03-19-2019': 352, '03-20-2019': 252, '03-21-2019': 354, '03-22-2019': -544, '03-23-2019': -650, '03-24-2019': 56, '03-25-2019': 123, '03-26-2019': -43, '03-27-2019': 254, '03-28-2019': 325, '03-29-2019': -123, '03-30-2019': 47, '03-31-2019': 321, '04-01-2019': 123, '04-02-2019': 133, '04-03-2019': -151, '04-04-2019': 613, '04-05-2019': 232, '04-06-2019': -311, '04-07-2019': 542}\n",
      "\n"
     ]
    }
   ],
   "source": [
    "# Modify a key value\n",
    "trading_pnl[\"04-07-2019\"] = 542\n",
    "print(trading_pnl)\n",
    "print()"
   ]
  },
  {
   "cell_type": "code",
   "execution_count": 10,
   "id": "56e93788-b755-4a92-aabb-40d5abe03792",
   "metadata": {},
   "outputs": [
    {
     "name": "stdout",
     "output_type": "stream",
     "text": [
      "{'title': 'Trading Log', '03-18-2019': -224, '03-19-2019': 352, '03-20-2019': 252, '03-21-2019': 354, '03-22-2019': -544, '03-23-2019': -650, '03-24-2019': 56, '03-25-2019': 123, '03-26-2019': -43, '03-27-2019': 254, '03-28-2019': 325, '03-29-2019': -123, '03-30-2019': 47, '03-31-2019': 321, '04-01-2019': 123, '04-02-2019': 133, '04-03-2019': -151, '04-04-2019': 613, '04-05-2019': 232, '04-06-2019': -311}\n",
      "\n"
     ]
    }
   ],
   "source": [
    "# Delete a key-value pair\n",
    "del trading_pnl[\"04-07-2019\"]\n",
    "print(trading_pnl)\n",
    "print()"
   ]
  },
  {
   "cell_type": "code",
   "execution_count": 11,
   "id": "6443e64d-0e40-4946-8949-442b44ed0f54",
   "metadata": {},
   "outputs": [
    {
     "name": "stdout",
     "output_type": "stream",
     "text": [
      "Yes, '04-03-2019' is one of the keys in the trading_pnl dictionary\n",
      "\n"
     ]
    }
   ],
   "source": [
    "# Check if key exists\n",
    "if \"04-03-2019\" in trading_pnl:\n",
    "    print(\"Yes, '04-03-2019' is one of the keys in the trading_pnl dictionary\")\n",
    "print()"
   ]
  },
  {
   "cell_type": "code",
   "execution_count": 24,
   "id": "e553e356-2f89-4199-ba3c-96b8576d0910",
   "metadata": {},
   "outputs": [
    {
     "name": "stdout",
     "output_type": "stream",
     "text": [
      "Key: title\n",
      "Key: 03-18-2019\n",
      "Key: 03-19-2019\n",
      "Key: 03-20-2019\n",
      "Key: 03-21-2019\n",
      "Key: 03-22-2019\n",
      "Key: 03-23-2019\n",
      "Key: 03-24-2019\n",
      "Key: 03-25-2019\n",
      "Key: 03-26-2019\n",
      "Key: 03-27-2019\n",
      "Key: 03-28-2019\n",
      "Key: 03-29-2019\n",
      "Key: 03-30-2019\n",
      "Key: 03-31-2019\n",
      "Key: 04-01-2019\n",
      "Key: 04-02-2019\n",
      "Key: 04-03-2019\n",
      "Key: 04-04-2019\n",
      "Key: 04-05-2019\n",
      "Key: 04-06-2019\n",
      "\n"
     ]
    }
   ],
   "source": [
    "# Print out dict keys via a for loop\n",
    "for item in trading_pnl:\n",
    "    print(f\"Key: {item}\")\n",
    "print()"
   ]
  },
  {
   "cell_type": "code",
   "execution_count": 13,
   "id": "90893c08-4719-4afa-860a-c5f2b9785fa7",
   "metadata": {},
   "outputs": [
    {
     "name": "stdout",
     "output_type": "stream",
     "text": [
      "Value: Trading Log\n",
      "Value: -224\n",
      "Value: 352\n",
      "Value: 252\n",
      "Value: 354\n",
      "Value: -544\n",
      "Value: -650\n",
      "Value: 56\n",
      "Value: 123\n",
      "Value: -43\n",
      "Value: 254\n",
      "Value: 325\n",
      "Value: -123\n",
      "Value: 47\n",
      "Value: 321\n",
      "Value: 123\n",
      "Value: 133\n",
      "Value: -151\n",
      "Value: 613\n",
      "Value: 232\n",
      "Value: -311\n",
      "\n"
     ]
    }
   ],
   "source": [
    "# Print out dict values\n",
    "for item in trading_pnl:\n",
    "    print(f\"Value: {trading_pnl[item]}\")\n",
    "print()"
   ]
  },
  {
   "cell_type": "code",
   "execution_count": 14,
   "id": "0e43b967-8294-45d9-8c48-eecd16c6001a",
   "metadata": {},
   "outputs": [
    {
     "name": "stdout",
     "output_type": "stream",
     "text": [
      "Key: title Value: Trading Log\n",
      "Key: 03-18-2019 Value: -224\n",
      "Key: 03-19-2019 Value: 352\n",
      "Key: 03-20-2019 Value: 252\n",
      "Key: 03-21-2019 Value: 354\n",
      "Key: 03-22-2019 Value: -544\n",
      "Key: 03-23-2019 Value: -650\n",
      "Key: 03-24-2019 Value: 56\n",
      "Key: 03-25-2019 Value: 123\n",
      "Key: 03-26-2019 Value: -43\n",
      "Key: 03-27-2019 Value: 254\n",
      "Key: 03-28-2019 Value: 325\n",
      "Key: 03-29-2019 Value: -123\n",
      "Key: 03-30-2019 Value: 47\n",
      "Key: 03-31-2019 Value: 321\n",
      "Key: 04-01-2019 Value: 123\n",
      "Key: 04-02-2019 Value: 133\n",
      "Key: 04-03-2019 Value: -151\n",
      "Key: 04-04-2019 Value: 613\n",
      "Key: 04-05-2019 Value: 232\n",
      "Key: 04-06-2019 Value: -311\n",
      "\n"
     ]
    }
   ],
   "source": [
    "# Print out dict key-value pairs\n",
    "for key, value in trading_pnl.items():\n",
    "    print(f\"Key: {key} Value: {value}\")\n",
    "print()"
   ]
  },
  {
   "cell_type": "code",
   "execution_count": 17,
   "id": "a93cf314-2bac-4079-862d-b4bd6fcfeede",
   "metadata": {},
   "outputs": [
    {
     "data": {
      "text/plain": [
       "dict_values(['Trading Log', -224, 352, 252, 354, -544, -650, 56, 123, -43, 254, 325, -123, 47, 321, 123, 133, -151, 613, 232, -311])"
      ]
     },
     "execution_count": 17,
     "metadata": {},
     "output_type": "execute_result"
    }
   ],
   "source": [
    "trading_pnl.values()"
   ]
  },
  {
   "cell_type": "code",
   "execution_count": 25,
   "id": "ec33f674-0311-43e6-949a-fceb2b70c898",
   "metadata": {},
   "outputs": [
    {
     "data": {
      "text/plain": [
       "dict_keys(['title', '03-18-2019', '03-19-2019', '03-20-2019', '03-21-2019', '03-22-2019', '03-23-2019', '03-24-2019', '03-25-2019', '03-26-2019', '03-27-2019', '03-28-2019', '03-29-2019', '03-30-2019', '03-31-2019', '04-01-2019', '04-02-2019', '04-03-2019', '04-04-2019', '04-05-2019', '04-06-2019'])"
      ]
     },
     "execution_count": 25,
     "metadata": {},
     "output_type": "execute_result"
    }
   ],
   "source": [
    "trading_pnl.keys()"
   ]
  },
  {
   "cell_type": "code",
   "execution_count": 29,
   "id": "5cb5bbcb-d52d-46dc-82cb-97da83783001",
   "metadata": {},
   "outputs": [
    {
     "name": "stdout",
     "output_type": "stream",
     "text": [
      "title\n",
      "03-18-2019\n",
      "03-19-2019\n",
      "03-20-2019\n",
      "03-21-2019\n",
      "03-22-2019\n",
      "03-23-2019\n",
      "03-24-2019\n",
      "03-25-2019\n",
      "03-26-2019\n",
      "03-27-2019\n",
      "03-28-2019\n",
      "03-29-2019\n",
      "03-30-2019\n",
      "03-31-2019\n",
      "04-01-2019\n",
      "04-02-2019\n",
      "04-03-2019\n",
      "04-04-2019\n",
      "04-05-2019\n",
      "04-06-2019\n"
     ]
    }
   ],
   "source": [
    "for items in trading_pnl:\n",
    "    print(items)"
   ]
  },
  {
   "cell_type": "code",
   "execution_count": 23,
   "id": "be503b81-796d-4568-9bc9-83773e12262e",
   "metadata": {},
   "outputs": [
    {
     "data": {
      "text/plain": [
       "'Trading Log'"
      ]
     },
     "execution_count": 23,
     "metadata": {},
     "output_type": "execute_result"
    }
   ],
   "source": [
    "trading_pnl[\"title\"]"
   ]
  },
  {
   "cell_type": "code",
   "execution_count": 30,
   "id": "39c4a8de-10c7-42b8-a837-4146d6a9ba6b",
   "metadata": {},
   "outputs": [
    {
     "data": {
      "text/plain": [
       "dict_items([('title', 'Trading Log'), ('03-18-2019', -224), ('03-19-2019', 352), ('03-20-2019', 252), ('03-21-2019', 354), ('03-22-2019', -544), ('03-23-2019', -650), ('03-24-2019', 56), ('03-25-2019', 123), ('03-26-2019', -43), ('03-27-2019', 254), ('03-28-2019', 325), ('03-29-2019', -123), ('03-30-2019', 47), ('03-31-2019', 321), ('04-01-2019', 123), ('04-02-2019', 133), ('04-03-2019', -151), ('04-04-2019', 613), ('04-05-2019', 232), ('04-06-2019', -311)])"
      ]
     },
     "execution_count": 30,
     "metadata": {},
     "output_type": "execute_result"
    }
   ],
   "source": [
    "trading_pnl.items()"
   ]
  },
  {
   "cell_type": "code",
   "execution_count": 31,
   "id": "829fef24-5c5e-4494-8878-acc1cc827bbe",
   "metadata": {},
   "outputs": [],
   "source": [
    "x, y = (5, 3)"
   ]
  },
  {
   "cell_type": "code",
   "execution_count": 32,
   "id": "cd9a1662-f698-4fb6-b1a1-d149383c8a29",
   "metadata": {},
   "outputs": [
    {
     "name": "stdout",
     "output_type": "stream",
     "text": [
      "3\n"
     ]
    }
   ],
   "source": [
    "print(y)"
   ]
  },
  {
   "cell_type": "code",
   "execution_count": 33,
   "id": "7bd00ec5-a511-480b-92a1-ad8d51607f43",
   "metadata": {},
   "outputs": [
    {
     "data": {
      "text/plain": [
       "dict_keys(['title', '03-18-2019', '03-19-2019', '03-20-2019', '03-21-2019', '03-22-2019', '03-23-2019', '03-24-2019', '03-25-2019', '03-26-2019', '03-27-2019', '03-28-2019', '03-29-2019', '03-30-2019', '03-31-2019', '04-01-2019', '04-02-2019', '04-03-2019', '04-04-2019', '04-05-2019', '04-06-2019'])"
      ]
     },
     "execution_count": 33,
     "metadata": {},
     "output_type": "execute_result"
    }
   ],
   "source": [
    "trading_pnl.keys()"
   ]
  },
  {
   "cell_type": "code",
   "execution_count": null,
   "id": "cd74fb40-c432-4baa-be18-b1d848d3f3ce",
   "metadata": {},
   "outputs": [],
   "source": []
  }
 ],
 "metadata": {
  "kernelspec": {
   "display_name": "Python 3 (ipykernel)",
   "language": "python",
   "name": "python3"
  },
  "language_info": {
   "codemirror_mode": {
    "name": "ipython",
    "version": 3
   },
   "file_extension": ".py",
   "mimetype": "text/x-python",
   "name": "python",
   "nbconvert_exporter": "python",
   "pygments_lexer": "ipython3",
   "version": "3.9.12"
  }
 },
 "nbformat": 4,
 "nbformat_minor": 5
}
