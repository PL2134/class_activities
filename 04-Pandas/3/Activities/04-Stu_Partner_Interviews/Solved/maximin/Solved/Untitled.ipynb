{
 "cells": [
  {
   "cell_type": "code",
   "execution_count": null,
   "id": "ed6d5b4c-5a1a-4111-bf9b-79f260c5a569",
   "metadata": {},
   "outputs": [],
   "source": [
    "\"\"\"\n",
    "    Pseudocode for a cheer-leading program:\n",
    "\n",
    "    1. Initialize \"cheer\" variable to a string to be cheered\n",
    "    2. Create a for loop and iterate through each character in \"cheer\" variable\n",
    "        2.1 Print each letter to screen with a cheer\n",
    "    3. Print exclaimation to screen (\"Woohoo!!!\")\n",
    "\"\"\""
   ]
  },
  {
   "cell_type": "code",
   "execution_count": null,
   "id": "27e20068-b741-4710-b218-f617471c993d",
   "metadata": {},
   "outputs": [],
   "source": []
  }
 ],
 "metadata": {
  "kernelspec": {
   "display_name": "Python 3 (ipykernel)",
   "language": "python",
   "name": "python3"
  },
  "language_info": {
   "codemirror_mode": {
    "name": "ipython",
    "version": 3
   },
   "file_extension": ".py",
   "mimetype": "text/x-python",
   "name": "python",
   "nbconvert_exporter": "python",
   "pygments_lexer": "ipython3",
   "version": "3.9.12"
  }
 },
 "nbformat": 4,
 "nbformat_minor": 5
}
