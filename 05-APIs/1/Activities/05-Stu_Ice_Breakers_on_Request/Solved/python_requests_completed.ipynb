{
 "cells": [
  {
   "cell_type": "markdown",
   "metadata": {},
   "source": [
    "## Ice Breakers on Request"
   ]
  },
  {
   "cell_type": "markdown",
   "metadata": {},
   "source": [
    "### Import requests library"
   ]
  },
  {
   "cell_type": "code",
   "execution_count": 1,
   "metadata": {},
   "outputs": [],
   "source": [
    "import requests"
   ]
  },
  {
   "cell_type": "markdown",
   "metadata": {},
   "source": [
    "### Declare `request_urls`"
   ]
  },
  {
   "cell_type": "code",
   "execution_count": 2,
   "metadata": {},
   "outputs": [],
   "source": [
    "# Declare `url` variables\n",
    "bitcoin_price_url = \"https://api.coindesk.com/v1/bpi/currentprice.json\"\n",
    "exchange_rate_url = \"https://open.er-api.com/v6/latest/CAD\"\n",
    "statistics_canada_url = \"https://www150.statcan.gc.ca/n1/dai-quo/ssi/homepage/daily-banner-eng.json\"\n",
    "ca_gdp_data_url = \"http://api.worldbank.org/v2/country/ca?format=json\""
   ]
  },
  {
   "cell_type": "markdown",
   "metadata": {},
   "source": [
    "### Execute `GET` request using `requests` library"
   ]
  },
  {
   "cell_type": "code",
   "execution_count": 3,
   "metadata": {},
   "outputs": [
    {
     "data": {
      "text/plain": [
       "<Response [200]>"
      ]
     },
     "execution_count": 3,
     "metadata": {},
     "output_type": "execute_result"
    }
   ],
   "source": [
    "# Execute `GET` request with url\n",
    "requests.get(exchange_rate_url)"
   ]
  },
  {
   "cell_type": "markdown",
   "metadata": {
    "tags": []
   },
   "source": [
    "### Get response `status code`"
   ]
  },
  {
   "cell_type": "code",
   "execution_count": 4,
   "metadata": {},
   "outputs": [],
   "source": [
    "# Print `response_data variable`\n",
    "response_data = requests.get(exchange_rate_url)"
   ]
  },
  {
   "cell_type": "markdown",
   "metadata": {},
   "source": [
    "### Extract response `content`"
   ]
  },
  {
   "cell_type": "code",
   "execution_count": 5,
   "metadata": {
    "collapsed": true,
    "jupyter": {
     "outputs_hidden": true
    },
    "tags": []
   },
   "outputs": [
    {
     "name": "stdout",
     "output_type": "stream",
     "text": [
      "b'{\"result\":\"success\",\"provider\":\"https://www.exchangerate-api.com\",\"documentation\":\"https://www.exchangerate-api.com/docs/free\",\"terms_of_use\":\"https://www.exchangerate-api.com/terms\",\"time_last_update_unix\":1664841752,\"time_last_update_utc\":\"Tue, 04 Oct 2022 00:02:32 +0000\",\"time_next_update_unix\":1664928942,\"time_next_update_utc\":\"Wed, 05 Oct 2022 00:15:42 +0000\",\"time_eol_unix\":0,\"base_code\":\"CAD\",\"rates\":{\"CAD\":1,\"AED\":2.686653,\"AFN\":64.084507,\"ALL\":87.123026,\"AMD\":294.817053,\"ANG\":1.309492,\"AOA\":322.7735,\"ARS\":107.200707,\"AUD\":1.127474,\"AWG\":1.309492,\"AZN\":1.233581,\"BAM\":1.460168,\"BBD\":1.463119,\"BDT\":73.622563,\"BGN\":1.459918,\"BHD\":0.275066,\"BIF\":1487.751456,\"BMD\":0.73156,\"BND\":1.047624,\"BOB\":5.003436,\"BRL\":3.867995,\"BSD\":0.73156,\"BTN\":59.507759,\"BWP\":9.755253,\"BYN\":1.808415,\"BZD\":1.463119,\"CDF\":1475.792734,\"CHF\":0.72496,\"CLP\":703.980378,\"CNY\":5.196724,\"COP\":3353.293422,\"CRC\":459.886293,\"CUP\":17.557434,\"CVE\":82.320741,\"CZK\":18.324079,\"DJF\":130.013528,\"DKK\":5.569709,\"DOP\":38.930481,\"DZD\":102.491905,\"EGP\":14.224144,\"ERN\":10.973396,\"ETB\":38.76005,\"EUR\":0.746597,\"FJD\":1.669825,\"FKP\":0.649133,\"FOK\":5.569709,\"GBP\":0.649152,\"GEL\":2.052591,\"GGP\":0.649133,\"GHS\":7.874672,\"GIP\":0.649133,\"GMD\":41.475181,\"GNF\":6292.540334,\"GTQ\":5.705329,\"GYD\":152.416284,\"HKD\":5.743129,\"HNL\":17.957573,\"HRK\":5.625045,\"HTG\":88.305266,\"HUF\":314.321697,\"IDR\":11142.019136,\"ILS\":2.61212,\"IMP\":0.649133,\"INR\":59.509298,\"IQD\":1063.373541,\"IRR\":30483.639385,\"ISK\":105.265103,\"JEP\":0.649133,\"JMD\":111.070313,\"JOD\":0.518676,\"JPY\":105.814488,\"KES\":88.630637,\"KGS\":59.263631,\"KHR\":3001.851209,\"KID\":1.127471,\"KMF\":367.289253,\"KRW\":1048.34153,\"KWD\":0.219197,\"KYD\":0.609633,\"KZT\":345.803939,\"LAK\":11926.605536,\"LBP\":1102.826307,\"LKR\":260.480353,\"LRD\":111.845138,\"LSL\":13.094356,\"LYD\":3.676966,\"MAD\":8.03558,\"MDL\":14.153525,\"MGA\":3032.34,\"MKD\":45.8877,\"MMK\":1839.617538,\"MNT\":2418.928979,\"MOP\":5.91495,\"MRU\":27.598029,\"MUR\":32.627878,\"MVR\":11.184514,\"MWK\":756.549213,\"MXN\":14.675746,\"MYR\":3.377152,\"MZN\":46.643045,\"NAD\":13.094356,\"NGN\":314.606742,\"NIO\":26.065163,\"NOK\":7.848233,\"NPR\":95.212415,\"NZD\":1.284631,\"OMR\":0.281283,\"PAB\":0.73156,\"PEN\":2.905145,\"PGK\":2.562478,\"PHP\":42.949628,\"PKR\":165.191741,\"PLN\":3.598139,\"PYG\":5119.549943,\"QAR\":2.662877,\"RON\":3.686663,\"RSD\":87.491113,\"RUB\":42.207342,\"RWF\":787.11811,\"SAR\":2.743349,\"SBD\":5.829834,\"SCR\":9.341717,\"SDG\":413.558434,\"SEK\":8.085243,\"SGD\":1.047662,\"SHP\":0.649133,\"SLE\":11.487636,\"SLL\":11487.071341,\"SOS\":414.142087,\"SRD\":20.391194,\"SSP\":463.77231,\"STN\":18.291009,\"SYP\":1827.768019,\"SZL\":13.094356,\"THB\":27.729723,\"TJS\":7.301181,\"TMT\":2.543676,\"TND\":2.155357,\"TOP\":1.771461,\"TRY\":13.567283,\"TTD\":5.047879,\"TVD\":1.127471,\"TWD\":23.1798,\"TZS\":1702.931759,\"UAH\":27.419558,\"UGX\":2803.347769,\"USD\":0.731601,\"UYU\":30.27027,\"UZS\":7991.156561,\"VES\":6.00151,\"VND\":17481.285926,\"VUV\":86.584353,\"WST\":2.06941,\"XAF\":489.719005,\"XCD\":1.975211,\"XDR\":0.565996,\"XOF\":489.719005,\"XPF\":89.089907,\"YER\":182.136603,\"ZAR\":13.094378,\"ZMW\":11.514436,\"ZWL\":454.909366}}'\n"
     ]
    }
   ],
   "source": [
    "# Store response using `content` attribute\n",
    "response_content = response_data.content\n",
    "print(response_content)"
   ]
  },
  {
   "cell_type": "markdown",
   "metadata": {},
   "source": [
    "### Convert output to JSON"
   ]
  },
  {
   "cell_type": "code",
   "execution_count": 6,
   "metadata": {},
   "outputs": [],
   "source": [
    "# Format data as JSON\n",
    "import json\n",
    "\n",
    "data = response_data.json()"
   ]
  },
  {
   "cell_type": "markdown",
   "metadata": {},
   "source": [
    "### Format data with `json.dumps`"
   ]
  },
  {
   "cell_type": "code",
   "execution_count": 7,
   "metadata": {
    "collapsed": true,
    "jupyter": {
     "outputs_hidden": true
    },
    "tags": []
   },
   "outputs": [
    {
     "name": "stdout",
     "output_type": "stream",
     "text": [
      "{\n",
      "    \"result\": \"success\",\n",
      "    \"provider\": \"https://www.exchangerate-api.com\",\n",
      "    \"documentation\": \"https://www.exchangerate-api.com/docs/free\",\n",
      "    \"terms_of_use\": \"https://www.exchangerate-api.com/terms\",\n",
      "    \"time_last_update_unix\": 1664841752,\n",
      "    \"time_last_update_utc\": \"Tue, 04 Oct 2022 00:02:32 +0000\",\n",
      "    \"time_next_update_unix\": 1664928942,\n",
      "    \"time_next_update_utc\": \"Wed, 05 Oct 2022 00:15:42 +0000\",\n",
      "    \"time_eol_unix\": 0,\n",
      "    \"base_code\": \"CAD\",\n",
      "    \"rates\": {\n",
      "        \"CAD\": 1,\n",
      "        \"AED\": 2.686653,\n",
      "        \"AFN\": 64.084507,\n",
      "        \"ALL\": 87.123026,\n",
      "        \"AMD\": 294.817053,\n",
      "        \"ANG\": 1.309492,\n",
      "        \"AOA\": 322.7735,\n",
      "        \"ARS\": 107.200707,\n",
      "        \"AUD\": 1.127474,\n",
      "        \"AWG\": 1.309492,\n",
      "        \"AZN\": 1.233581,\n",
      "        \"BAM\": 1.460168,\n",
      "        \"BBD\": 1.463119,\n",
      "        \"BDT\": 73.622563,\n",
      "        \"BGN\": 1.459918,\n",
      "        \"BHD\": 0.275066,\n",
      "        \"BIF\": 1487.751456,\n",
      "        \"BMD\": 0.73156,\n",
      "        \"BND\": 1.047624,\n",
      "        \"BOB\": 5.003436,\n",
      "        \"BRL\": 3.867995,\n",
      "        \"BSD\": 0.73156,\n",
      "        \"BTN\": 59.507759,\n",
      "        \"BWP\": 9.755253,\n",
      "        \"BYN\": 1.808415,\n",
      "        \"BZD\": 1.463119,\n",
      "        \"CDF\": 1475.792734,\n",
      "        \"CHF\": 0.72496,\n",
      "        \"CLP\": 703.980378,\n",
      "        \"CNY\": 5.196724,\n",
      "        \"COP\": 3353.293422,\n",
      "        \"CRC\": 459.886293,\n",
      "        \"CUP\": 17.557434,\n",
      "        \"CVE\": 82.320741,\n",
      "        \"CZK\": 18.324079,\n",
      "        \"DJF\": 130.013528,\n",
      "        \"DKK\": 5.569709,\n",
      "        \"DOP\": 38.930481,\n",
      "        \"DZD\": 102.491905,\n",
      "        \"EGP\": 14.224144,\n",
      "        \"ERN\": 10.973396,\n",
      "        \"ETB\": 38.76005,\n",
      "        \"EUR\": 0.746597,\n",
      "        \"FJD\": 1.669825,\n",
      "        \"FKP\": 0.649133,\n",
      "        \"FOK\": 5.569709,\n",
      "        \"GBP\": 0.649152,\n",
      "        \"GEL\": 2.052591,\n",
      "        \"GGP\": 0.649133,\n",
      "        \"GHS\": 7.874672,\n",
      "        \"GIP\": 0.649133,\n",
      "        \"GMD\": 41.475181,\n",
      "        \"GNF\": 6292.540334,\n",
      "        \"GTQ\": 5.705329,\n",
      "        \"GYD\": 152.416284,\n",
      "        \"HKD\": 5.743129,\n",
      "        \"HNL\": 17.957573,\n",
      "        \"HRK\": 5.625045,\n",
      "        \"HTG\": 88.305266,\n",
      "        \"HUF\": 314.321697,\n",
      "        \"IDR\": 11142.019136,\n",
      "        \"ILS\": 2.61212,\n",
      "        \"IMP\": 0.649133,\n",
      "        \"INR\": 59.509298,\n",
      "        \"IQD\": 1063.373541,\n",
      "        \"IRR\": 30483.639385,\n",
      "        \"ISK\": 105.265103,\n",
      "        \"JEP\": 0.649133,\n",
      "        \"JMD\": 111.070313,\n",
      "        \"JOD\": 0.518676,\n",
      "        \"JPY\": 105.814488,\n",
      "        \"KES\": 88.630637,\n",
      "        \"KGS\": 59.263631,\n",
      "        \"KHR\": 3001.851209,\n",
      "        \"KID\": 1.127471,\n",
      "        \"KMF\": 367.289253,\n",
      "        \"KRW\": 1048.34153,\n",
      "        \"KWD\": 0.219197,\n",
      "        \"KYD\": 0.609633,\n",
      "        \"KZT\": 345.803939,\n",
      "        \"LAK\": 11926.605536,\n",
      "        \"LBP\": 1102.826307,\n",
      "        \"LKR\": 260.480353,\n",
      "        \"LRD\": 111.845138,\n",
      "        \"LSL\": 13.094356,\n",
      "        \"LYD\": 3.676966,\n",
      "        \"MAD\": 8.03558,\n",
      "        \"MDL\": 14.153525,\n",
      "        \"MGA\": 3032.34,\n",
      "        \"MKD\": 45.8877,\n",
      "        \"MMK\": 1839.617538,\n",
      "        \"MNT\": 2418.928979,\n",
      "        \"MOP\": 5.91495,\n",
      "        \"MRU\": 27.598029,\n",
      "        \"MUR\": 32.627878,\n",
      "        \"MVR\": 11.184514,\n",
      "        \"MWK\": 756.549213,\n",
      "        \"MXN\": 14.675746,\n",
      "        \"MYR\": 3.377152,\n",
      "        \"MZN\": 46.643045,\n",
      "        \"NAD\": 13.094356,\n",
      "        \"NGN\": 314.606742,\n",
      "        \"NIO\": 26.065163,\n",
      "        \"NOK\": 7.848233,\n",
      "        \"NPR\": 95.212415,\n",
      "        \"NZD\": 1.284631,\n",
      "        \"OMR\": 0.281283,\n",
      "        \"PAB\": 0.73156,\n",
      "        \"PEN\": 2.905145,\n",
      "        \"PGK\": 2.562478,\n",
      "        \"PHP\": 42.949628,\n",
      "        \"PKR\": 165.191741,\n",
      "        \"PLN\": 3.598139,\n",
      "        \"PYG\": 5119.549943,\n",
      "        \"QAR\": 2.662877,\n",
      "        \"RON\": 3.686663,\n",
      "        \"RSD\": 87.491113,\n",
      "        \"RUB\": 42.207342,\n",
      "        \"RWF\": 787.11811,\n",
      "        \"SAR\": 2.743349,\n",
      "        \"SBD\": 5.829834,\n",
      "        \"SCR\": 9.341717,\n",
      "        \"SDG\": 413.558434,\n",
      "        \"SEK\": 8.085243,\n",
      "        \"SGD\": 1.047662,\n",
      "        \"SHP\": 0.649133,\n",
      "        \"SLE\": 11.487636,\n",
      "        \"SLL\": 11487.071341,\n",
      "        \"SOS\": 414.142087,\n",
      "        \"SRD\": 20.391194,\n",
      "        \"SSP\": 463.77231,\n",
      "        \"STN\": 18.291009,\n",
      "        \"SYP\": 1827.768019,\n",
      "        \"SZL\": 13.094356,\n",
      "        \"THB\": 27.729723,\n",
      "        \"TJS\": 7.301181,\n",
      "        \"TMT\": 2.543676,\n",
      "        \"TND\": 2.155357,\n",
      "        \"TOP\": 1.771461,\n",
      "        \"TRY\": 13.567283,\n",
      "        \"TTD\": 5.047879,\n",
      "        \"TVD\": 1.127471,\n",
      "        \"TWD\": 23.1798,\n",
      "        \"TZS\": 1702.931759,\n",
      "        \"UAH\": 27.419558,\n",
      "        \"UGX\": 2803.347769,\n",
      "        \"USD\": 0.731601,\n",
      "        \"UYU\": 30.27027,\n",
      "        \"UZS\": 7991.156561,\n",
      "        \"VES\": 6.00151,\n",
      "        \"VND\": 17481.285926,\n",
      "        \"VUV\": 86.584353,\n",
      "        \"WST\": 2.06941,\n",
      "        \"XAF\": 489.719005,\n",
      "        \"XCD\": 1.975211,\n",
      "        \"XDR\": 0.565996,\n",
      "        \"XOF\": 489.719005,\n",
      "        \"XPF\": 89.089907,\n",
      "        \"YER\": 182.136603,\n",
      "        \"ZAR\": 13.094378,\n",
      "        \"ZMW\": 11.514436,\n",
      "        \"ZWL\": 454.909366\n",
      "    }\n",
      "}\n"
     ]
    }
   ],
   "source": [
    "import json\n",
    "\n",
    "# Use json.dumps to format data\n",
    "print(json.dumps(data, indent=4))"
   ]
  },
  {
   "cell_type": "markdown",
   "metadata": {},
   "source": [
    "### Select value and store as variable"
   ]
  },
  {
   "cell_type": "code",
   "execution_count": 9,
   "metadata": {},
   "outputs": [
    {
     "name": "stdout",
     "output_type": "stream",
     "text": [
      "1.127474\n"
     ]
    }
   ],
   "source": [
    "# Select bitcoin values\n",
    "aud_rate = data[\"rates\"][\"AUD\"]\n",
    "print(aud_rate)"
   ]
  },
  {
   "cell_type": "code",
   "execution_count": 8,
   "metadata": {
    "collapsed": true,
    "jupyter": {
     "outputs_hidden": true
    },
    "tags": []
   },
   "outputs": [
    {
     "data": {
      "text/plain": [
       "{'CAD': 1,\n",
       " 'AED': 2.686653,\n",
       " 'AFN': 64.084507,\n",
       " 'ALL': 87.123026,\n",
       " 'AMD': 294.817053,\n",
       " 'ANG': 1.309492,\n",
       " 'AOA': 322.7735,\n",
       " 'ARS': 107.200707,\n",
       " 'AUD': 1.127474,\n",
       " 'AWG': 1.309492,\n",
       " 'AZN': 1.233581,\n",
       " 'BAM': 1.460168,\n",
       " 'BBD': 1.463119,\n",
       " 'BDT': 73.622563,\n",
       " 'BGN': 1.459918,\n",
       " 'BHD': 0.275066,\n",
       " 'BIF': 1487.751456,\n",
       " 'BMD': 0.73156,\n",
       " 'BND': 1.047624,\n",
       " 'BOB': 5.003436,\n",
       " 'BRL': 3.867995,\n",
       " 'BSD': 0.73156,\n",
       " 'BTN': 59.507759,\n",
       " 'BWP': 9.755253,\n",
       " 'BYN': 1.808415,\n",
       " 'BZD': 1.463119,\n",
       " 'CDF': 1475.792734,\n",
       " 'CHF': 0.72496,\n",
       " 'CLP': 703.980378,\n",
       " 'CNY': 5.196724,\n",
       " 'COP': 3353.293422,\n",
       " 'CRC': 459.886293,\n",
       " 'CUP': 17.557434,\n",
       " 'CVE': 82.320741,\n",
       " 'CZK': 18.324079,\n",
       " 'DJF': 130.013528,\n",
       " 'DKK': 5.569709,\n",
       " 'DOP': 38.930481,\n",
       " 'DZD': 102.491905,\n",
       " 'EGP': 14.224144,\n",
       " 'ERN': 10.973396,\n",
       " 'ETB': 38.76005,\n",
       " 'EUR': 0.746597,\n",
       " 'FJD': 1.669825,\n",
       " 'FKP': 0.649133,\n",
       " 'FOK': 5.569709,\n",
       " 'GBP': 0.649152,\n",
       " 'GEL': 2.052591,\n",
       " 'GGP': 0.649133,\n",
       " 'GHS': 7.874672,\n",
       " 'GIP': 0.649133,\n",
       " 'GMD': 41.475181,\n",
       " 'GNF': 6292.540334,\n",
       " 'GTQ': 5.705329,\n",
       " 'GYD': 152.416284,\n",
       " 'HKD': 5.743129,\n",
       " 'HNL': 17.957573,\n",
       " 'HRK': 5.625045,\n",
       " 'HTG': 88.305266,\n",
       " 'HUF': 314.321697,\n",
       " 'IDR': 11142.019136,\n",
       " 'ILS': 2.61212,\n",
       " 'IMP': 0.649133,\n",
       " 'INR': 59.509298,\n",
       " 'IQD': 1063.373541,\n",
       " 'IRR': 30483.639385,\n",
       " 'ISK': 105.265103,\n",
       " 'JEP': 0.649133,\n",
       " 'JMD': 111.070313,\n",
       " 'JOD': 0.518676,\n",
       " 'JPY': 105.814488,\n",
       " 'KES': 88.630637,\n",
       " 'KGS': 59.263631,\n",
       " 'KHR': 3001.851209,\n",
       " 'KID': 1.127471,\n",
       " 'KMF': 367.289253,\n",
       " 'KRW': 1048.34153,\n",
       " 'KWD': 0.219197,\n",
       " 'KYD': 0.609633,\n",
       " 'KZT': 345.803939,\n",
       " 'LAK': 11926.605536,\n",
       " 'LBP': 1102.826307,\n",
       " 'LKR': 260.480353,\n",
       " 'LRD': 111.845138,\n",
       " 'LSL': 13.094356,\n",
       " 'LYD': 3.676966,\n",
       " 'MAD': 8.03558,\n",
       " 'MDL': 14.153525,\n",
       " 'MGA': 3032.34,\n",
       " 'MKD': 45.8877,\n",
       " 'MMK': 1839.617538,\n",
       " 'MNT': 2418.928979,\n",
       " 'MOP': 5.91495,\n",
       " 'MRU': 27.598029,\n",
       " 'MUR': 32.627878,\n",
       " 'MVR': 11.184514,\n",
       " 'MWK': 756.549213,\n",
       " 'MXN': 14.675746,\n",
       " 'MYR': 3.377152,\n",
       " 'MZN': 46.643045,\n",
       " 'NAD': 13.094356,\n",
       " 'NGN': 314.606742,\n",
       " 'NIO': 26.065163,\n",
       " 'NOK': 7.848233,\n",
       " 'NPR': 95.212415,\n",
       " 'NZD': 1.284631,\n",
       " 'OMR': 0.281283,\n",
       " 'PAB': 0.73156,\n",
       " 'PEN': 2.905145,\n",
       " 'PGK': 2.562478,\n",
       " 'PHP': 42.949628,\n",
       " 'PKR': 165.191741,\n",
       " 'PLN': 3.598139,\n",
       " 'PYG': 5119.549943,\n",
       " 'QAR': 2.662877,\n",
       " 'RON': 3.686663,\n",
       " 'RSD': 87.491113,\n",
       " 'RUB': 42.207342,\n",
       " 'RWF': 787.11811,\n",
       " 'SAR': 2.743349,\n",
       " 'SBD': 5.829834,\n",
       " 'SCR': 9.341717,\n",
       " 'SDG': 413.558434,\n",
       " 'SEK': 8.085243,\n",
       " 'SGD': 1.047662,\n",
       " 'SHP': 0.649133,\n",
       " 'SLE': 11.487636,\n",
       " 'SLL': 11487.071341,\n",
       " 'SOS': 414.142087,\n",
       " 'SRD': 20.391194,\n",
       " 'SSP': 463.77231,\n",
       " 'STN': 18.291009,\n",
       " 'SYP': 1827.768019,\n",
       " 'SZL': 13.094356,\n",
       " 'THB': 27.729723,\n",
       " 'TJS': 7.301181,\n",
       " 'TMT': 2.543676,\n",
       " 'TND': 2.155357,\n",
       " 'TOP': 1.771461,\n",
       " 'TRY': 13.567283,\n",
       " 'TTD': 5.047879,\n",
       " 'TVD': 1.127471,\n",
       " 'TWD': 23.1798,\n",
       " 'TZS': 1702.931759,\n",
       " 'UAH': 27.419558,\n",
       " 'UGX': 2803.347769,\n",
       " 'USD': 0.731601,\n",
       " 'UYU': 30.27027,\n",
       " 'UZS': 7991.156561,\n",
       " 'VES': 6.00151,\n",
       " 'VND': 17481.285926,\n",
       " 'VUV': 86.584353,\n",
       " 'WST': 2.06941,\n",
       " 'XAF': 489.719005,\n",
       " 'XCD': 1.975211,\n",
       " 'XDR': 0.565996,\n",
       " 'XOF': 489.719005,\n",
       " 'XPF': 89.089907,\n",
       " 'YER': 182.136603,\n",
       " 'ZAR': 13.094378,\n",
       " 'ZMW': 11.514436,\n",
       " 'ZWL': 454.909366}"
      ]
     },
     "execution_count": 8,
     "metadata": {},
     "output_type": "execute_result"
    }
   ],
   "source": [
    "data[\"rates\"]"
   ]
  },
  {
   "cell_type": "code",
   "execution_count": 9,
   "metadata": {},
   "outputs": [],
   "source": [
    "# Print selected values\n"
   ]
  }
 ],
 "metadata": {
  "kernelspec": {
   "display_name": "Python 3 (ipykernel)",
   "language": "python",
   "name": "python3"
  },
  "language_info": {
   "codemirror_mode": {
    "name": "ipython",
    "version": 3
   },
   "file_extension": ".py",
   "mimetype": "text/x-python",
   "name": "python",
   "nbconvert_exporter": "python",
   "pygments_lexer": "ipython3",
   "version": "3.9.12"
  },
  "nteract": {
   "version": "0.28.0"
  }
 },
 "nbformat": 4,
 "nbformat_minor": 4
}
