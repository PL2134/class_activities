{
 "cells": [
  {
   "cell_type": "markdown",
   "metadata": {},
   "source": [
    "# House of Requests"
   ]
  },
  {
   "cell_type": "markdown",
   "metadata": {},
   "source": [
    "Use the `Deck of Cards` API to play a game of BlackJack with a partner. Parameterize the `Deck of Cards` API `request urls` in order to create the deck of cards, as well as draw cards for the game."
   ]
  },
  {
   "cell_type": "code",
   "execution_count": 2,
   "metadata": {},
   "outputs": [],
   "source": [
    "import requests\n",
    "import json"
   ]
  },
  {
   "cell_type": "markdown",
   "metadata": {},
   "source": [
    "## Prep for the Game"
   ]
  },
  {
   "cell_type": "code",
   "execution_count": 3,
   "metadata": {},
   "outputs": [
    {
     "name": "stdout",
     "output_type": "stream",
     "text": [
      "{\n",
      "    \"success\": true,\n",
      "    \"deck_id\": \"s46ebu7q2m62\",\n",
      "    \"remaining\": 312,\n",
      "    \"shuffled\": true\n",
      "}\n"
     ]
    }
   ],
   "source": [
    "# Declare request url to create deck id\n",
    "create_deck_url = \"https://deckofcardsapi.com/api/deck/new/shuffle/?deck_count=6\"\n",
    "\n",
    "# Execute create deck url\n",
    "deck_data = requests.get(create_deck_url).json()\n",
    "print(json.dumps(deck_data, indent=4))"
   ]
  },
  {
   "cell_type": "markdown",
   "metadata": {},
   "source": [
    "### Parse JSON and extract `deck_id`"
   ]
  },
  {
   "cell_type": "code",
   "execution_count": 4,
   "metadata": {},
   "outputs": [
    {
     "name": "stdout",
     "output_type": "stream",
     "text": [
      "s46ebu7q2m62\n"
     ]
    }
   ],
   "source": [
    "# Select deck_id\n",
    "deck_id = deck_data['deck_id']\n",
    "print(deck_id)"
   ]
  },
  {
   "cell_type": "markdown",
   "metadata": {},
   "source": [
    "### Declare request urls to draw cards and shuffle deck"
   ]
  },
  {
   "cell_type": "code",
   "execution_count": 20,
   "metadata": {},
   "outputs": [
    {
     "name": "stdout",
     "output_type": "stream",
     "text": [
      "https://deckofcardsapi.com/api/deck/s46ebu7q2m62/draw/?count=2\n",
      "https://deckofcardsapi.com/api/deck/s46ebu7q2m62/shuffle/\n"
     ]
    }
   ],
   "source": [
    "# Declare draw_cards_url and shuffle_deck_url\n",
    "# Use string interpolation to incorporate the deck_id\n",
    "draw_cards_url = f\"https://deckofcardsapi.com/api/deck/{deck_id}/draw/?count=2\"\n",
    "shuffle_deck_url = f\"https://deckofcardsapi.com/api/deck/{deck_id}/shuffle/\"\n",
    "print(draw_cards_url)\n",
    "print(shuffle_deck_url)"
   ]
  },
  {
   "cell_type": "markdown",
   "metadata": {},
   "source": [
    "## Player 1 Turn"
   ]
  },
  {
   "cell_type": "markdown",
   "metadata": {},
   "source": [
    "### Draw two cards"
   ]
  },
  {
   "cell_type": "code",
   "execution_count": 21,
   "metadata": {
    "tags": []
   },
   "outputs": [
    {
     "name": "stdout",
     "output_type": "stream",
     "text": [
      "{\n",
      "    \"success\": true,\n",
      "    \"deck_id\": \"s46ebu7q2m62\",\n",
      "    \"cards\": [\n",
      "        {\n",
      "            \"code\": \"6C\",\n",
      "            \"image\": \"https://deckofcardsapi.com/static/img/6C.png\",\n",
      "            \"images\": {\n",
      "                \"svg\": \"https://deckofcardsapi.com/static/img/6C.svg\",\n",
      "                \"png\": \"https://deckofcardsapi.com/static/img/6C.png\"\n",
      "            },\n",
      "            \"value\": \"6\",\n",
      "            \"suit\": \"CLUBS\"\n",
      "        },\n",
      "        {\n",
      "            \"code\": \"7H\",\n",
      "            \"image\": \"https://deckofcardsapi.com/static/img/7H.png\",\n",
      "            \"images\": {\n",
      "                \"svg\": \"https://deckofcardsapi.com/static/img/7H.svg\",\n",
      "                \"png\": \"https://deckofcardsapi.com/static/img/7H.png\"\n",
      "            },\n",
      "            \"value\": \"7\",\n",
      "            \"suit\": \"HEARTS\"\n",
      "        }\n",
      "    ],\n",
      "    \"remaining\": 308\n",
      "}\n"
     ]
    }
   ],
   "source": [
    "# Draw two cards\n",
    "player_1_data = requests.get(draw_cards_url).json()\n",
    "print(json.dumps(player_1_data, indent=4))"
   ]
  },
  {
   "cell_type": "markdown",
   "metadata": {},
   "source": [
    "### Parse and extract `value` and `suit` elements from JSON output, for each card"
   ]
  },
  {
   "cell_type": "code",
   "execution_count": 22,
   "metadata": {},
   "outputs": [
    {
     "name": "stdout",
     "output_type": "stream",
     "text": [
      "6 of CLUBS\n"
     ]
    }
   ],
   "source": [
    "print(player_1_data[\"cards\"][0][\"value\"] + \" of \" + player_1_data[\"cards\"][0][\"suit\"])"
   ]
  },
  {
   "cell_type": "code",
   "execution_count": 55,
   "metadata": {},
   "outputs": [
    {
     "data": {
      "text/plain": [
       "'6'"
      ]
     },
     "execution_count": 55,
     "metadata": {},
     "output_type": "execute_result"
    }
   ],
   "source": [
    "player_1_data[\"cards\"][0][\"value\"]"
   ]
  },
  {
   "cell_type": "code",
   "execution_count": 23,
   "metadata": {},
   "outputs": [
    {
     "name": "stdout",
     "output_type": "stream",
     "text": [
      "7 of HEARTS\n"
     ]
    }
   ],
   "source": [
    "print(player_1_data[\"cards\"][1][\"value\"] + \" of \" + player_1_data[\"cards\"][1][\"suit\"])"
   ]
  },
  {
   "cell_type": "code",
   "execution_count": 24,
   "metadata": {},
   "outputs": [
    {
     "name": "stdout",
     "output_type": "stream",
     "text": [
      "6 of CLUBS\n",
      "7 of HEARTS\n"
     ]
    }
   ],
   "source": [
    "# Select returned card's value and suit (i.e. 3 of clubs)\n",
    "player_1_card_1 = player_1_data[\"cards\"][0][\"value\"] + \" of \" + player_1_data[\"cards\"][0][\"suit\"]\n",
    "player_1_card_2 = player_1_data[\"cards\"][1][\"value\"] + \" of \" + player_1_data[\"cards\"][1][\"suit\"]\n",
    "# Print player cards\n",
    "print(player_1_card_1)\n",
    "print(player_1_card_2)"
   ]
  },
  {
   "cell_type": "code",
   "execution_count": 43,
   "metadata": {},
   "outputs": [
    {
     "data": {
      "text/plain": [
       "['6 of CLUBS', '7 of HEARTS']"
      ]
     },
     "execution_count": 43,
     "metadata": {},
     "output_type": "execute_result"
    }
   ],
   "source": [
    "player_1_hand = []\n",
    "player_1_hand.append(player_1_card_1)\n",
    "player_1_hand.append(player_1_card_2)\n",
    "\n",
    "player_1_hand"
   ]
  },
  {
   "cell_type": "code",
   "execution_count": 44,
   "metadata": {},
   "outputs": [
    {
     "data": {
      "text/plain": [
       "['6 of CLUBS']"
      ]
     },
     "execution_count": 44,
     "metadata": {},
     "output_type": "execute_result"
    }
   ],
   "source": [
    "player_1_hand.remove(player_1_card_2)\n",
    "\n",
    "player_1_hand"
   ]
  },
  {
   "cell_type": "markdown",
   "metadata": {},
   "source": [
    "### Decide whether to draw another card or skip to next player turn"
   ]
  },
  {
   "cell_type": "code",
   "execution_count": 25,
   "metadata": {},
   "outputs": [],
   "source": [
    "# Draw a third card URL\n",
    "draw_3rd_card_url = f\"https://deckofcardsapi.com/api/deck/{deck_id}/draw/?count=1\""
   ]
  },
  {
   "cell_type": "code",
   "execution_count": 27,
   "metadata": {},
   "outputs": [
    {
     "name": "stdout",
     "output_type": "stream",
     "text": [
      "{\n",
      "    \"success\": true,\n",
      "    \"deck_id\": \"s46ebu7q2m62\",\n",
      "    \"cards\": [\n",
      "        {\n",
      "            \"code\": \"8S\",\n",
      "            \"image\": \"https://deckofcardsapi.com/static/img/8S.png\",\n",
      "            \"images\": {\n",
      "                \"svg\": \"https://deckofcardsapi.com/static/img/8S.svg\",\n",
      "                \"png\": \"https://deckofcardsapi.com/static/img/8S.png\"\n",
      "            },\n",
      "            \"value\": \"8\",\n",
      "            \"suit\": \"SPADES\"\n",
      "        }\n",
      "    ],\n",
      "    \"remaining\": 306\n",
      "}\n"
     ]
    }
   ],
   "source": [
    "# Draw a third card\n",
    "player_1_3rd_card_data = requests.get(draw_3rd_card_url).json()\n",
    "print(json.dumps(player_1_3rd_card_data, indent=4))"
   ]
  },
  {
   "cell_type": "code",
   "execution_count": 37,
   "metadata": {},
   "outputs": [
    {
     "data": {
      "text/plain": [
       "'8 of SPADES'"
      ]
     },
     "execution_count": 37,
     "metadata": {},
     "output_type": "execute_result"
    }
   ],
   "source": [
    "player_1_3rd_card_data[\"cards\"][0][\"value\"]+ \" of \" + player_1_3rd_card_data[\"cards\"][0][\"suit\"]"
   ]
  },
  {
   "cell_type": "code",
   "execution_count": 38,
   "metadata": {},
   "outputs": [],
   "source": [
    "# Select returned card's value and suit (i.e. 3 of clubs)\n",
    "player_1_card_3 = player_1_3rd_card_data[\"cards\"][0][\"value\"]+ \" of \" + player_1_3rd_card_data[\"cards\"][0][\"suit\"]"
   ]
  },
  {
   "cell_type": "code",
   "execution_count": 39,
   "metadata": {},
   "outputs": [
    {
     "name": "stdout",
     "output_type": "stream",
     "text": [
      "8 of SPADES\n"
     ]
    }
   ],
   "source": [
    "# Print player card\n",
    "print(player_1_card_3)"
   ]
  },
  {
   "cell_type": "markdown",
   "metadata": {},
   "source": [
    "### Manually calculate player 1 points and enter below"
   ]
  },
  {
   "cell_type": "markdown",
   "metadata": {},
   "source": [
    "Player 1 points = "
   ]
  },
  {
   "cell_type": "code",
   "execution_count": 40,
   "metadata": {},
   "outputs": [
    {
     "name": "stdout",
     "output_type": "stream",
     "text": [
      "21\n"
     ]
    }
   ],
   "source": [
    "player_1_points = 6 + 7 + 8\n",
    "print(player_1_points)"
   ]
  },
  {
   "cell_type": "code",
   "execution_count": 42,
   "metadata": {},
   "outputs": [
    {
     "name": "stdout",
     "output_type": "stream",
     "text": [
      "{\n",
      "    \"success\": true,\n",
      "    \"deck_id\": \"s46ebu7q2m62\",\n",
      "    \"remaining\": 312,\n",
      "    \"shuffled\": true\n",
      "}\n"
     ]
    }
   ],
   "source": [
    "#Shuffle the deck\n",
    "shuffled_data = requests.get(shuffle_deck_url).json()\n",
    "print(json.dumps(shuffled_data, indent=4))"
   ]
  },
  {
   "cell_type": "markdown",
   "metadata": {},
   "source": [
    "## Player 2 / Dealer Turn"
   ]
  },
  {
   "cell_type": "code",
   "execution_count": 45,
   "metadata": {
    "tags": []
   },
   "outputs": [
    {
     "name": "stdout",
     "output_type": "stream",
     "text": [
      "{\n",
      "    \"success\": true,\n",
      "    \"deck_id\": \"s46ebu7q2m62\",\n",
      "    \"cards\": [\n",
      "        {\n",
      "            \"code\": \"7H\",\n",
      "            \"image\": \"https://deckofcardsapi.com/static/img/7H.png\",\n",
      "            \"images\": {\n",
      "                \"svg\": \"https://deckofcardsapi.com/static/img/7H.svg\",\n",
      "                \"png\": \"https://deckofcardsapi.com/static/img/7H.png\"\n",
      "            },\n",
      "            \"value\": \"7\",\n",
      "            \"suit\": \"HEARTS\"\n",
      "        },\n",
      "        {\n",
      "            \"code\": \"QC\",\n",
      "            \"image\": \"https://deckofcardsapi.com/static/img/QC.png\",\n",
      "            \"images\": {\n",
      "                \"svg\": \"https://deckofcardsapi.com/static/img/QC.svg\",\n",
      "                \"png\": \"https://deckofcardsapi.com/static/img/QC.png\"\n",
      "            },\n",
      "            \"value\": \"QUEEN\",\n",
      "            \"suit\": \"CLUBS\"\n",
      "        }\n",
      "    ],\n",
      "    \"remaining\": 310\n",
      "}\n"
     ]
    }
   ],
   "source": [
    "# Draw two cards for player 2\n",
    "player_2_data = requests.get(draw_cards_url).json()\n",
    "print(json.dumps(player_2_data, indent=4))"
   ]
  },
  {
   "cell_type": "code",
   "execution_count": 46,
   "metadata": {},
   "outputs": [],
   "source": [
    "# Select card value and suit \n",
    "player_2_card_1 = player_2_data[\"cards\"][0][\"value\"] + \" of \" + player_1_data[\"cards\"][0][\"suit\"]\n",
    "player_2_card_2 = player_2_data[\"cards\"][1][\"value\"] + \" of \" + player_1_data[\"cards\"][1][\"suit\"]"
   ]
  },
  {
   "cell_type": "code",
   "execution_count": 47,
   "metadata": {},
   "outputs": [
    {
     "name": "stdout",
     "output_type": "stream",
     "text": [
      "7 of CLUBS\n",
      "QUEEN of HEARTS\n"
     ]
    }
   ],
   "source": [
    "# Print player cards\n",
    "print(player_2_card_1)\n",
    "print(player_2_card_2)"
   ]
  },
  {
   "cell_type": "code",
   "execution_count": 48,
   "metadata": {},
   "outputs": [
    {
     "name": "stdout",
     "output_type": "stream",
     "text": [
      "{\n",
      "    \"success\": true,\n",
      "    \"deck_id\": \"s46ebu7q2m62\",\n",
      "    \"cards\": [\n",
      "        {\n",
      "            \"code\": \"AS\",\n",
      "            \"image\": \"https://deckofcardsapi.com/static/img/AS.png\",\n",
      "            \"images\": {\n",
      "                \"svg\": \"https://deckofcardsapi.com/static/img/AS.svg\",\n",
      "                \"png\": \"https://deckofcardsapi.com/static/img/AS.png\"\n",
      "            },\n",
      "            \"value\": \"ACE\",\n",
      "            \"suit\": \"SPADES\"\n",
      "        }\n",
      "    ],\n",
      "    \"remaining\": 309\n",
      "}\n"
     ]
    }
   ],
   "source": [
    "# Draw third card for player 2\n",
    "player_2_3rd_card_data = requests.get(draw_3rd_card_url).json()\n",
    "print(json.dumps(player_2_3rd_card_data, indent=4))"
   ]
  },
  {
   "cell_type": "code",
   "execution_count": 49,
   "metadata": {},
   "outputs": [],
   "source": [
    "# Select returned card's value and suit (i.e. 3 of clubs)\n",
    "player_2_card_3 = player_2_3rd_card_data[\"cards\"][0][\"value\"]+ \" of \" + player_2_3rd_card_data[\"cards\"][0][\"suit\"]"
   ]
  },
  {
   "cell_type": "code",
   "execution_count": 50,
   "metadata": {},
   "outputs": [
    {
     "name": "stdout",
     "output_type": "stream",
     "text": [
      "ACE of SPADES\n"
     ]
    }
   ],
   "source": [
    "# Print player card\n",
    "print(player_2_card_3)"
   ]
  },
  {
   "cell_type": "markdown",
   "metadata": {},
   "source": [
    "### Manually calculate player 2 points and enter below"
   ]
  },
  {
   "cell_type": "markdown",
   "metadata": {},
   "source": [
    "Player 2 points ="
   ]
  },
  {
   "cell_type": "code",
   "execution_count": 52,
   "metadata": {},
   "outputs": [
    {
     "name": "stdout",
     "output_type": "stream",
     "text": [
      "18\n"
     ]
    }
   ],
   "source": [
    "player_2_points = 7 + 10 + 1\n",
    "print(player_2_points)"
   ]
  }
 ],
 "metadata": {
  "kernelspec": {
   "display_name": "Python 3 (ipykernel)",
   "language": "python",
   "name": "python3"
  },
  "language_info": {
   "codemirror_mode": {
    "name": "ipython",
    "version": 3
   },
   "file_extension": ".py",
   "mimetype": "text/x-python",
   "name": "python",
   "nbconvert_exporter": "python",
   "pygments_lexer": "ipython3",
   "version": "3.9.12"
  }
 },
 "nbformat": 4,
 "nbformat_minor": 4
}
